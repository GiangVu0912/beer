{
  "nbformat": 4,
  "nbformat_minor": 0,
  "metadata": {
    "colab": {
      "name": "Beer.ipynb",
      "provenance": [],
      "collapsed_sections": []
    },
    "kernelspec": {
      "name": "python3",
      "display_name": "Python 3"
    },
    "language_info": {
      "name": "python"
    }
  },
  "cells": [
    {
      "cell_type": "markdown",
      "metadata": {
        "id": "Bfxe5Ojiuwru"
      },
      "source": [
        "## Download data from kaggle"
      ]
    },
    {
      "cell_type": "code",
      "metadata": {
        "colab": {
          "resources": {
            "http://localhost:8080/nbextensions/google.colab/files.js": {
              "data": "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",
              "ok": true,
              "headers": [
                [
                  "content-type",
                  "application/javascript"
                ]
              ],
              "status": 200,
              "status_text": ""
            }
          },
          "base_uri": "https://localhost:8080/",
          "height": 327
        },
        "id": "Zzzo8J0HuLoX",
        "outputId": "f8589021-a5b1-4b56-d08a-2a3ad61410d5"
      },
      "source": [
        "from google.colab import files\n",
        "files.upload()\n",
        "# Install kaggle package\n",
        "!pip install --upgrade --force-reinstall --no-deps kaggle\n",
        "\n",
        "# Ensure kaggle.json is in the location ~/.kaggle/kaggle.json to use the API.\n",
        "!mkdir -p ~/.kaggle\n",
        "!mv kaggle.json ~/.kaggle/\n",
        "!chmod 600 ~/.kaggle/kaggle.json # set permission"
      ],
      "execution_count": null,
      "outputs": [
        {
          "output_type": "display_data",
          "data": {
            "text/html": [
              "\n",
              "     <input type=\"file\" id=\"files-212d835a-d68a-4238-a74c-0cea1926e16a\" name=\"files[]\" multiple disabled\n",
              "        style=\"border:none\" />\n",
              "     <output id=\"result-212d835a-d68a-4238-a74c-0cea1926e16a\">\n",
              "      Upload widget is only available when the cell has been executed in the\n",
              "      current browser session. Please rerun this cell to enable.\n",
              "      </output>\n",
              "      <script src=\"/nbextensions/google.colab/files.js\"></script> "
            ],
            "text/plain": [
              "<IPython.core.display.HTML object>"
            ]
          },
          "metadata": {}
        },
        {
          "output_type": "stream",
          "name": "stdout",
          "text": [
            "Saving kaggle.json to kaggle.json\n",
            "Collecting kaggle\n",
            "  Downloading kaggle-1.5.12.tar.gz (58 kB)\n",
            "\u001b[K     |████████████████████████████████| 58 kB 2.5 MB/s \n",
            "\u001b[?25hBuilding wheels for collected packages: kaggle\n",
            "  Building wheel for kaggle (setup.py) ... \u001b[?25l\u001b[?25hdone\n",
            "  Created wheel for kaggle: filename=kaggle-1.5.12-py3-none-any.whl size=73051 sha256=21a8da6e9f8ed6a50cac8606e4652b11fce83f5219f1222db0518774aae873bc\n",
            "  Stored in directory: /root/.cache/pip/wheels/62/d6/58/5853130f941e75b2177d281eb7e44b4a98ed46dd155f556dc5\n",
            "Successfully built kaggle\n",
            "Installing collected packages: kaggle\n",
            "  Attempting uninstall: kaggle\n",
            "    Found existing installation: kaggle 1.5.12\n",
            "    Uninstalling kaggle-1.5.12:\n",
            "      Successfully uninstalled kaggle-1.5.12\n",
            "Successfully installed kaggle-1.5.12\n"
          ]
        }
      ]
    },
    {
      "cell_type": "code",
      "metadata": {
        "colab": {
          "base_uri": "https://localhost:8080/"
        },
        "id": "1Q0brm8IuX4s",
        "outputId": "54402310-ea6f-4064-e014-36ae0252ec4e"
      },
      "source": [
        "!kaggle datasets download -d 'rdoume/beerreviews'  -p '/content'\n",
        "!unzip -q '/content/beerreviews.zip' -d '/content'"
      ],
      "execution_count": null,
      "outputs": [
        {
          "output_type": "stream",
          "name": "stdout",
          "text": [
            "Downloading beerreviews.zip to /content\n",
            " 62% 17.0M/27.4M [00:01<00:00, 13.7MB/s]\n",
            "100% 27.4M/27.4M [00:01<00:00, 17.6MB/s]\n"
          ]
        }
      ]
    },
    {
      "cell_type": "code",
      "metadata": {
        "id": "gbEN0ug0uhPf"
      },
      "source": [
        "import pandas as pd\n",
        "import seaborn as sns\n",
        "import matplotlib.pyplot as plt\n",
        "import plotly.graph_objs as go\n",
        "import plotly as py"
      ],
      "execution_count": null,
      "outputs": []
    },
    {
      "cell_type": "code",
      "metadata": {
        "id": "JBl8d1XrumF3"
      },
      "source": [
        "df = pd.read_csv('/content/beer_reviews.csv')"
      ],
      "execution_count": null,
      "outputs": []
    },
    {
      "cell_type": "code",
      "metadata": {
        "colab": {
          "base_uri": "https://localhost:8080/",
          "height": 240
        },
        "id": "DSJZpBgHutnw",
        "outputId": "95ea2083-9e2a-445b-b782-2e134aab1c2c"
      },
      "source": [
        "df.head()"
      ],
      "execution_count": null,
      "outputs": [
        {
          "output_type": "execute_result",
          "data": {
            "text/html": [
              "<div>\n",
              "<style scoped>\n",
              "    .dataframe tbody tr th:only-of-type {\n",
              "        vertical-align: middle;\n",
              "    }\n",
              "\n",
              "    .dataframe tbody tr th {\n",
              "        vertical-align: top;\n",
              "    }\n",
              "\n",
              "    .dataframe thead th {\n",
              "        text-align: right;\n",
              "    }\n",
              "</style>\n",
              "<table border=\"1\" class=\"dataframe\">\n",
              "  <thead>\n",
              "    <tr style=\"text-align: right;\">\n",
              "      <th></th>\n",
              "      <th>brewery_id</th>\n",
              "      <th>brewery_name</th>\n",
              "      <th>review_time</th>\n",
              "      <th>review_overall</th>\n",
              "      <th>review_aroma</th>\n",
              "      <th>review_appearance</th>\n",
              "      <th>review_profilename</th>\n",
              "      <th>beer_style</th>\n",
              "      <th>review_palate</th>\n",
              "      <th>review_taste</th>\n",
              "      <th>beer_name</th>\n",
              "      <th>beer_abv</th>\n",
              "      <th>beer_beerid</th>\n",
              "    </tr>\n",
              "  </thead>\n",
              "  <tbody>\n",
              "    <tr>\n",
              "      <th>0</th>\n",
              "      <td>10325</td>\n",
              "      <td>Vecchio Birraio</td>\n",
              "      <td>1234817823</td>\n",
              "      <td>1.5</td>\n",
              "      <td>2.0</td>\n",
              "      <td>2.5</td>\n",
              "      <td>stcules</td>\n",
              "      <td>Hefeweizen</td>\n",
              "      <td>1.5</td>\n",
              "      <td>1.5</td>\n",
              "      <td>Sausa Weizen</td>\n",
              "      <td>5.0</td>\n",
              "      <td>47986</td>\n",
              "    </tr>\n",
              "    <tr>\n",
              "      <th>1</th>\n",
              "      <td>10325</td>\n",
              "      <td>Vecchio Birraio</td>\n",
              "      <td>1235915097</td>\n",
              "      <td>3.0</td>\n",
              "      <td>2.5</td>\n",
              "      <td>3.0</td>\n",
              "      <td>stcules</td>\n",
              "      <td>English Strong Ale</td>\n",
              "      <td>3.0</td>\n",
              "      <td>3.0</td>\n",
              "      <td>Red Moon</td>\n",
              "      <td>6.2</td>\n",
              "      <td>48213</td>\n",
              "    </tr>\n",
              "    <tr>\n",
              "      <th>2</th>\n",
              "      <td>10325</td>\n",
              "      <td>Vecchio Birraio</td>\n",
              "      <td>1235916604</td>\n",
              "      <td>3.0</td>\n",
              "      <td>2.5</td>\n",
              "      <td>3.0</td>\n",
              "      <td>stcules</td>\n",
              "      <td>Foreign / Export Stout</td>\n",
              "      <td>3.0</td>\n",
              "      <td>3.0</td>\n",
              "      <td>Black Horse Black Beer</td>\n",
              "      <td>6.5</td>\n",
              "      <td>48215</td>\n",
              "    </tr>\n",
              "    <tr>\n",
              "      <th>3</th>\n",
              "      <td>10325</td>\n",
              "      <td>Vecchio Birraio</td>\n",
              "      <td>1234725145</td>\n",
              "      <td>3.0</td>\n",
              "      <td>3.0</td>\n",
              "      <td>3.5</td>\n",
              "      <td>stcules</td>\n",
              "      <td>German Pilsener</td>\n",
              "      <td>2.5</td>\n",
              "      <td>3.0</td>\n",
              "      <td>Sausa Pils</td>\n",
              "      <td>5.0</td>\n",
              "      <td>47969</td>\n",
              "    </tr>\n",
              "    <tr>\n",
              "      <th>4</th>\n",
              "      <td>1075</td>\n",
              "      <td>Caldera Brewing Company</td>\n",
              "      <td>1293735206</td>\n",
              "      <td>4.0</td>\n",
              "      <td>4.5</td>\n",
              "      <td>4.0</td>\n",
              "      <td>johnmichaelsen</td>\n",
              "      <td>American Double / Imperial IPA</td>\n",
              "      <td>4.0</td>\n",
              "      <td>4.5</td>\n",
              "      <td>Cauldron DIPA</td>\n",
              "      <td>7.7</td>\n",
              "      <td>64883</td>\n",
              "    </tr>\n",
              "  </tbody>\n",
              "</table>\n",
              "</div>"
            ],
            "text/plain": [
              "   brewery_id             brewery_name  ...  beer_abv  beer_beerid\n",
              "0       10325          Vecchio Birraio  ...       5.0        47986\n",
              "1       10325          Vecchio Birraio  ...       6.2        48213\n",
              "2       10325          Vecchio Birraio  ...       6.5        48215\n",
              "3       10325          Vecchio Birraio  ...       5.0        47969\n",
              "4        1075  Caldera Brewing Company  ...       7.7        64883\n",
              "\n",
              "[5 rows x 13 columns]"
            ]
          },
          "metadata": {},
          "execution_count": 5
        }
      ]
    },
    {
      "cell_type": "markdown",
      "metadata": {
        "id": "uJq172zzuv8v"
      },
      "source": [
        "## Clean data"
      ]
    },
    {
      "cell_type": "code",
      "metadata": {
        "colab": {
          "base_uri": "https://localhost:8080/"
        },
        "id": "hG5kb2A0xMQ1",
        "outputId": "613593ca-b371-47b1-b754-5493865e9613"
      },
      "source": [
        "# check for duplicated\n",
        "df.duplicated().sum()"
      ],
      "execution_count": null,
      "outputs": [
        {
          "output_type": "execute_result",
          "data": {
            "text/plain": [
              "0"
            ]
          },
          "metadata": {},
          "execution_count": 6
        }
      ]
    },
    {
      "cell_type": "code",
      "metadata": {
        "colab": {
          "base_uri": "https://localhost:8080/"
        },
        "id": "I85KSiH4xCPA",
        "outputId": "64ffd508-367b-4e96-ef81-4ee286f0033b"
      },
      "source": [
        "# check null value\n",
        "df.isna().sum()"
      ],
      "execution_count": null,
      "outputs": [
        {
          "output_type": "execute_result",
          "data": {
            "text/plain": [
              "brewery_id                0\n",
              "brewery_name             15\n",
              "review_time               0\n",
              "review_overall            0\n",
              "review_aroma              0\n",
              "review_appearance         0\n",
              "review_profilename      348\n",
              "beer_style                0\n",
              "review_palate             0\n",
              "review_taste              0\n",
              "beer_name                 0\n",
              "beer_abv              67785\n",
              "beer_beerid               0\n",
              "dtype: int64"
            ]
          },
          "metadata": {},
          "execution_count": 7
        }
      ]
    },
    {
      "cell_type": "code",
      "metadata": {
        "id": "5xH6F7p_x1yO"
      },
      "source": [
        "# drop all null value\n",
        "df = df.dropna()"
      ],
      "execution_count": null,
      "outputs": []
    },
    {
      "cell_type": "code",
      "metadata": {
        "id": "k7ZGNRh6wKq3"
      },
      "source": [
        "# convert review_time to data_time\n",
        "df['review_time'] = pd.to_datetime(df['review_time'], unit='s')"
      ],
      "execution_count": null,
      "outputs": []
    },
    {
      "cell_type": "code",
      "metadata": {
        "colab": {
          "base_uri": "https://localhost:8080/"
        },
        "id": "Agp71B8dhPO4",
        "outputId": "b16efe3b-29c1-4df2-a6cf-5319e791afde"
      },
      "source": [
        "print(df['review_time'].min())\n",
        "print(df['review_time'].max())"
      ],
      "execution_count": null,
      "outputs": [
        {
          "output_type": "stream",
          "name": "stdout",
          "text": [
            "1996-08-22 00:00:01\n",
            "2012-01-11 12:35:48\n"
          ]
        }
      ]
    },
    {
      "cell_type": "code",
      "metadata": {
        "id": "AGIZeyHnhyuZ"
      },
      "source": [
        "df['year'] = df['review_time'].dt.year"
      ],
      "execution_count": null,
      "outputs": []
    },
    {
      "cell_type": "code",
      "metadata": {
        "colab": {
          "base_uri": "https://localhost:8080/",
          "height": 297
        },
        "id": "tHvroFmxjlEg",
        "outputId": "67f53026-4c3d-4283-c7d6-06daa5a3abcf"
      },
      "source": [
        "df.groupby('year')['review_time'].count().plot()"
      ],
      "execution_count": null,
      "outputs": [
        {
          "output_type": "execute_result",
          "data": {
            "text/plain": [
              "<matplotlib.axes._subplots.AxesSubplot at 0x7f2122996490>"
            ]
          },
          "metadata": {},
          "execution_count": 12
        },
        {
          "output_type": "display_data",
          "data": {
            "image/png": "[encoded data removed]",
            "text/plain": [
              "<Figure size 432x288 with 1 Axes>"
            ]
          },
          "metadata": {
            "needs_background": "light"
          }
        }
      ]
    },
    {
      "cell_type": "code",
      "metadata": {
        "id": "hgUMKDezlNJ9"
      },
      "source": [
        "# Cause we has not many data before 2002, so I will delete all these data\n",
        "df = df[df['year']> 2001]"
      ],
      "execution_count": null,
      "outputs": []
    },
    {
      "cell_type": "code",
      "metadata": {
        "colab": {
          "base_uri": "https://localhost:8080/"
        },
        "id": "_XT_1U2GySIk",
        "outputId": "ff9daf3c-1395-4576-cae1-98b645ad1ae0"
      },
      "source": [
        "df.info()"
      ],
      "execution_count": null,
      "outputs": [
        {
          "output_type": "stream",
          "name": "stdout",
          "text": [
            "<class 'pandas.core.frame.DataFrame'>\n",
            "Int64Index: 1516501 entries, 0 to 1586613\n",
            "Data columns (total 14 columns):\n",
            " #   Column              Non-Null Count    Dtype         \n",
            "---  ------              --------------    -----         \n",
            " 0   brewery_id          1516501 non-null  int64         \n",
            " 1   brewery_name        1516501 non-null  object        \n",
            " 2   review_time         1516501 non-null  datetime64[ns]\n",
            " 3   review_overall      1516501 non-null  float64       \n",
            " 4   review_aroma        1516501 non-null  float64       \n",
            " 5   review_appearance   1516501 non-null  float64       \n",
            " 6   review_profilename  1516501 non-null  object        \n",
            " 7   beer_style          1516501 non-null  object        \n",
            " 8   review_palate       1516501 non-null  float64       \n",
            " 9   review_taste        1516501 non-null  float64       \n",
            " 10  beer_name           1516501 non-null  object        \n",
            " 11  beer_abv            1516501 non-null  float64       \n",
            " 12  beer_beerid         1516501 non-null  int64         \n",
            " 13  year                1516501 non-null  int64         \n",
            "dtypes: datetime64[ns](1), float64(6), int64(3), object(4)\n",
            "memory usage: 173.5+ MB\n"
          ]
        }
      ]
    },
    {
      "cell_type": "markdown",
      "metadata": {
        "id": "6ELvAMaZ45mB"
      },
      "source": [
        "## Question:\n",
        "- Which brewery produces the strongest beers by ABV%?\n",
        "- If you had to pick 3 beers to recommend using only this data, which would you pick?\n",
        "- Which of the factors (aroma, taste, appearance, palette) are most important in determining the overall quality of a beer?\n",
        "- Lastly, if I typically enjoy a beer due to its aroma and appearance, which beer style should I try?\n"
      ]
    },
    {
      "cell_type": "markdown",
      "metadata": {
        "id": "GMLQ7skt6V-W"
      },
      "source": [
        "### Question 1: Which brewery produces the strongest beers by ABV%?"
      ]
    },
    {
      "cell_type": "code",
      "metadata": {
        "colab": {
          "base_uri": "https://localhost:8080/",
          "height": 292
        },
        "id": "PEdx4HVu6QTW",
        "outputId": "0c2193ac-c347-4d69-96a0-19183aad2a22"
      },
      "source": [
        "df.head()"
      ],
      "execution_count": null,
      "outputs": [
        {
          "output_type": "execute_result",
          "data": {
            "text/html": [
              "<div>\n",
              "<style scoped>\n",
              "    .dataframe tbody tr th:only-of-type {\n",
              "        vertical-align: middle;\n",
              "    }\n",
              "\n",
              "    .dataframe tbody tr th {\n",
              "        vertical-align: top;\n",
              "    }\n",
              "\n",
              "    .dataframe thead th {\n",
              "        text-align: right;\n",
              "    }\n",
              "</style>\n",
              "<table border=\"1\" class=\"dataframe\">\n",
              "  <thead>\n",
              "    <tr style=\"text-align: right;\">\n",
              "      <th></th>\n",
              "      <th>brewery_id</th>\n",
              "      <th>brewery_name</th>\n",
              "      <th>review_time</th>\n",
              "      <th>review_overall</th>\n",
              "      <th>review_aroma</th>\n",
              "      <th>review_appearance</th>\n",
              "      <th>review_profilename</th>\n",
              "      <th>beer_style</th>\n",
              "      <th>review_palate</th>\n",
              "      <th>review_taste</th>\n",
              "      <th>beer_name</th>\n",
              "      <th>beer_abv</th>\n",
              "      <th>beer_beerid</th>\n",
              "      <th>year</th>\n",
              "    </tr>\n",
              "  </thead>\n",
              "  <tbody>\n",
              "    <tr>\n",
              "      <th>0</th>\n",
              "      <td>10325</td>\n",
              "      <td>Vecchio Birraio</td>\n",
              "      <td>2009-02-16 20:57:03</td>\n",
              "      <td>1.5</td>\n",
              "      <td>2.0</td>\n",
              "      <td>2.5</td>\n",
              "      <td>stcules</td>\n",
              "      <td>Hefeweizen</td>\n",
              "      <td>1.5</td>\n",
              "      <td>1.5</td>\n",
              "      <td>Sausa Weizen</td>\n",
              "      <td>5.0</td>\n",
              "      <td>47986</td>\n",
              "      <td>2009</td>\n",
              "    </tr>\n",
              "    <tr>\n",
              "      <th>1</th>\n",
              "      <td>10325</td>\n",
              "      <td>Vecchio Birraio</td>\n",
              "      <td>2009-03-01 13:44:57</td>\n",
              "      <td>3.0</td>\n",
              "      <td>2.5</td>\n",
              "      <td>3.0</td>\n",
              "      <td>stcules</td>\n",
              "      <td>English Strong Ale</td>\n",
              "      <td>3.0</td>\n",
              "      <td>3.0</td>\n",
              "      <td>Red Moon</td>\n",
              "      <td>6.2</td>\n",
              "      <td>48213</td>\n",
              "      <td>2009</td>\n",
              "    </tr>\n",
              "    <tr>\n",
              "      <th>2</th>\n",
              "      <td>10325</td>\n",
              "      <td>Vecchio Birraio</td>\n",
              "      <td>2009-03-01 14:10:04</td>\n",
              "      <td>3.0</td>\n",
              "      <td>2.5</td>\n",
              "      <td>3.0</td>\n",
              "      <td>stcules</td>\n",
              "      <td>Foreign / Export Stout</td>\n",
              "      <td>3.0</td>\n",
              "      <td>3.0</td>\n",
              "      <td>Black Horse Black Beer</td>\n",
              "      <td>6.5</td>\n",
              "      <td>48215</td>\n",
              "      <td>2009</td>\n",
              "    </tr>\n",
              "    <tr>\n",
              "      <th>3</th>\n",
              "      <td>10325</td>\n",
              "      <td>Vecchio Birraio</td>\n",
              "      <td>2009-02-15 19:12:25</td>\n",
              "      <td>3.0</td>\n",
              "      <td>3.0</td>\n",
              "      <td>3.5</td>\n",
              "      <td>stcules</td>\n",
              "      <td>German Pilsener</td>\n",
              "      <td>2.5</td>\n",
              "      <td>3.0</td>\n",
              "      <td>Sausa Pils</td>\n",
              "      <td>5.0</td>\n",
              "      <td>47969</td>\n",
              "      <td>2009</td>\n",
              "    </tr>\n",
              "    <tr>\n",
              "      <th>4</th>\n",
              "      <td>1075</td>\n",
              "      <td>Caldera Brewing Company</td>\n",
              "      <td>2010-12-30 18:53:26</td>\n",
              "      <td>4.0</td>\n",
              "      <td>4.5</td>\n",
              "      <td>4.0</td>\n",
              "      <td>johnmichaelsen</td>\n",
              "      <td>American Double / Imperial IPA</td>\n",
              "      <td>4.0</td>\n",
              "      <td>4.5</td>\n",
              "      <td>Cauldron DIPA</td>\n",
              "      <td>7.7</td>\n",
              "      <td>64883</td>\n",
              "      <td>2010</td>\n",
              "    </tr>\n",
              "  </tbody>\n",
              "</table>\n",
              "</div>"
            ],
            "text/plain": [
              "   brewery_id             brewery_name  ... beer_beerid  year\n",
              "0       10325          Vecchio Birraio  ...       47986  2009\n",
              "1       10325          Vecchio Birraio  ...       48213  2009\n",
              "2       10325          Vecchio Birraio  ...       48215  2009\n",
              "3       10325          Vecchio Birraio  ...       47969  2009\n",
              "4        1075  Caldera Brewing Company  ...       64883  2010\n",
              "\n",
              "[5 rows x 14 columns]"
            ]
          },
          "metadata": {},
          "execution_count": 15
        }
      ]
    },
    {
      "cell_type": "code",
      "metadata": {
        "colab": {
          "base_uri": "https://localhost:8080/",
          "height": 81
        },
        "id": "M6joOjdA6dp9",
        "outputId": "4ec8324b-3b07-4a85-a44b-b616fb895631"
      },
      "source": [
        "df[df['beer_abv'] == df['beer_abv'].max()][['brewery_id','brewery_name']]"
      ],
      "execution_count": null,
      "outputs": [
        {
          "output_type": "execute_result",
          "data": {
            "text/html": [
              "<div>\n",
              "<style scoped>\n",
              "    .dataframe tbody tr th:only-of-type {\n",
              "        vertical-align: middle;\n",
              "    }\n",
              "\n",
              "    .dataframe tbody tr th {\n",
              "        vertical-align: top;\n",
              "    }\n",
              "\n",
              "    .dataframe thead th {\n",
              "        text-align: right;\n",
              "    }\n",
              "</style>\n",
              "<table border=\"1\" class=\"dataframe\">\n",
              "  <thead>\n",
              "    <tr style=\"text-align: right;\">\n",
              "      <th></th>\n",
              "      <th>brewery_id</th>\n",
              "      <th>brewery_name</th>\n",
              "    </tr>\n",
              "  </thead>\n",
              "  <tbody>\n",
              "    <tr>\n",
              "      <th>12919</th>\n",
              "      <td>6513</td>\n",
              "      <td>Schorschbräu</td>\n",
              "    </tr>\n",
              "  </tbody>\n",
              "</table>\n",
              "</div>"
            ],
            "text/plain": [
              "       brewery_id  brewery_name\n",
              "12919        6513  Schorschbräu"
            ]
          },
          "metadata": {},
          "execution_count": 16
        }
      ]
    },
    {
      "cell_type": "code",
      "metadata": {
        "colab": {
          "base_uri": "https://localhost:8080/",
          "height": 362
        },
        "id": "kRFFXutnn6Ya",
        "outputId": "33813c22-6e49-43fe-9d35-dfcd57d66b52"
      },
      "source": [
        "df[['brewery_id','brewery_name','beer_abv']].sort_values('beer_abv', ascending = False).head(10)"
      ],
      "execution_count": null,
      "outputs": [
        {
          "output_type": "execute_result",
          "data": {
            "text/html": [
              "<div>\n",
              "<style scoped>\n",
              "    .dataframe tbody tr th:only-of-type {\n",
              "        vertical-align: middle;\n",
              "    }\n",
              "\n",
              "    .dataframe tbody tr th {\n",
              "        vertical-align: top;\n",
              "    }\n",
              "\n",
              "    .dataframe thead th {\n",
              "        text-align: right;\n",
              "    }\n",
              "</style>\n",
              "<table border=\"1\" class=\"dataframe\">\n",
              "  <thead>\n",
              "    <tr style=\"text-align: right;\">\n",
              "      <th></th>\n",
              "      <th>brewery_id</th>\n",
              "      <th>brewery_name</th>\n",
              "      <th>beer_abv</th>\n",
              "    </tr>\n",
              "  </thead>\n",
              "  <tbody>\n",
              "    <tr>\n",
              "      <th>12919</th>\n",
              "      <td>6513</td>\n",
              "      <td>Schorschbräu</td>\n",
              "      <td>57.7</td>\n",
              "    </tr>\n",
              "    <tr>\n",
              "      <th>12939</th>\n",
              "      <td>6513</td>\n",
              "      <td>Schorschbräu</td>\n",
              "      <td>43.0</td>\n",
              "    </tr>\n",
              "    <tr>\n",
              "      <th>12940</th>\n",
              "      <td>6513</td>\n",
              "      <td>Schorschbräu</td>\n",
              "      <td>43.0</td>\n",
              "    </tr>\n",
              "    <tr>\n",
              "      <th>746395</th>\n",
              "      <td>16315</td>\n",
              "      <td>BrewDog</td>\n",
              "      <td>41.0</td>\n",
              "    </tr>\n",
              "    <tr>\n",
              "      <th>746387</th>\n",
              "      <td>16315</td>\n",
              "      <td>BrewDog</td>\n",
              "      <td>41.0</td>\n",
              "    </tr>\n",
              "    <tr>\n",
              "      <th>746397</th>\n",
              "      <td>16315</td>\n",
              "      <td>BrewDog</td>\n",
              "      <td>41.0</td>\n",
              "    </tr>\n",
              "    <tr>\n",
              "      <th>746396</th>\n",
              "      <td>16315</td>\n",
              "      <td>BrewDog</td>\n",
              "      <td>41.0</td>\n",
              "    </tr>\n",
              "    <tr>\n",
              "      <th>746394</th>\n",
              "      <td>16315</td>\n",
              "      <td>BrewDog</td>\n",
              "      <td>41.0</td>\n",
              "    </tr>\n",
              "    <tr>\n",
              "      <th>746393</th>\n",
              "      <td>16315</td>\n",
              "      <td>BrewDog</td>\n",
              "      <td>41.0</td>\n",
              "    </tr>\n",
              "    <tr>\n",
              "      <th>746392</th>\n",
              "      <td>16315</td>\n",
              "      <td>BrewDog</td>\n",
              "      <td>41.0</td>\n",
              "    </tr>\n",
              "  </tbody>\n",
              "</table>\n",
              "</div>"
            ],
            "text/plain": [
              "        brewery_id  brewery_name  beer_abv\n",
              "12919         6513  Schorschbräu      57.7\n",
              "12939         6513  Schorschbräu      43.0\n",
              "12940         6513  Schorschbräu      43.0\n",
              "746395       16315       BrewDog      41.0\n",
              "746387       16315       BrewDog      41.0\n",
              "746397       16315       BrewDog      41.0\n",
              "746396       16315       BrewDog      41.0\n",
              "746394       16315       BrewDog      41.0\n",
              "746393       16315       BrewDog      41.0\n",
              "746392       16315       BrewDog      41.0"
            ]
          },
          "metadata": {},
          "execution_count": 17
        }
      ]
    },
    {
      "cell_type": "markdown",
      "metadata": {
        "id": "zs2wj5Un7Hgl"
      },
      "source": [
        "- Brewery produces the strongest beers by ABV% is **Schorschbräu** with 3 product\n",
        "- Brewery produces the second strongest beers by ABV% is **BrewDog**"
      ]
    },
    {
      "cell_type": "markdown",
      "metadata": {
        "id": "MgWu13wgqdy2"
      },
      "source": [
        "#### **Schor**"
      ]
    },
    {
      "cell_type": "code",
      "metadata": {
        "id": "0QpBsZf-O-S5"
      },
      "source": [
        "Schor = df[df['brewery_id'] == 6513]"
      ],
      "execution_count": null,
      "outputs": []
    },
    {
      "cell_type": "code",
      "metadata": {
        "colab": {
          "base_uri": "https://localhost:8080/",
          "height": 292
        },
        "id": "fani8ddiQnsX",
        "outputId": "87e4269d-e6bb-46fc-a693-fe4a81d5fcef"
      },
      "source": [
        "Schor.head()"
      ],
      "execution_count": null,
      "outputs": [
        {
          "output_type": "execute_result",
          "data": {
            "text/html": [
              "<div>\n",
              "<style scoped>\n",
              "    .dataframe tbody tr th:only-of-type {\n",
              "        vertical-align: middle;\n",
              "    }\n",
              "\n",
              "    .dataframe tbody tr th {\n",
              "        vertical-align: top;\n",
              "    }\n",
              "\n",
              "    .dataframe thead th {\n",
              "        text-align: right;\n",
              "    }\n",
              "</style>\n",
              "<table border=\"1\" class=\"dataframe\">\n",
              "  <thead>\n",
              "    <tr style=\"text-align: right;\">\n",
              "      <th></th>\n",
              "      <th>brewery_id</th>\n",
              "      <th>brewery_name</th>\n",
              "      <th>review_time</th>\n",
              "      <th>review_overall</th>\n",
              "      <th>review_aroma</th>\n",
              "      <th>review_appearance</th>\n",
              "      <th>review_profilename</th>\n",
              "      <th>beer_style</th>\n",
              "      <th>review_palate</th>\n",
              "      <th>review_taste</th>\n",
              "      <th>beer_name</th>\n",
              "      <th>beer_abv</th>\n",
              "      <th>beer_beerid</th>\n",
              "      <th>year</th>\n",
              "    </tr>\n",
              "  </thead>\n",
              "  <tbody>\n",
              "    <tr>\n",
              "      <th>12909</th>\n",
              "      <td>6513</td>\n",
              "      <td>Schorschbräu</td>\n",
              "      <td>2006-10-04 16:29:49</td>\n",
              "      <td>3.5</td>\n",
              "      <td>3.5</td>\n",
              "      <td>4.0</td>\n",
              "      <td>Bierman9</td>\n",
              "      <td>Munich Dunkel Lager</td>\n",
              "      <td>3.5</td>\n",
              "      <td>3.5</td>\n",
              "      <td>Schorschbräu Dunkles</td>\n",
              "      <td>4.9</td>\n",
              "      <td>32973</td>\n",
              "      <td>2006</td>\n",
              "    </tr>\n",
              "    <tr>\n",
              "      <th>12910</th>\n",
              "      <td>6513</td>\n",
              "      <td>Schorschbräu</td>\n",
              "      <td>2011-09-22 17:05:23</td>\n",
              "      <td>3.5</td>\n",
              "      <td>3.5</td>\n",
              "      <td>4.0</td>\n",
              "      <td>skypup</td>\n",
              "      <td>Eisbock</td>\n",
              "      <td>2.5</td>\n",
              "      <td>2.5</td>\n",
              "      <td>Schorschbock Ice 13</td>\n",
              "      <td>13.0</td>\n",
              "      <td>73357</td>\n",
              "      <td>2011</td>\n",
              "    </tr>\n",
              "    <tr>\n",
              "      <th>12911</th>\n",
              "      <td>6513</td>\n",
              "      <td>Schorschbräu</td>\n",
              "      <td>2010-09-07 17:34:17</td>\n",
              "      <td>4.0</td>\n",
              "      <td>3.5</td>\n",
              "      <td>3.0</td>\n",
              "      <td>hotzenklotz</td>\n",
              "      <td>Doppelbock</td>\n",
              "      <td>3.5</td>\n",
              "      <td>4.0</td>\n",
              "      <td>Schorschbock</td>\n",
              "      <td>16.0</td>\n",
              "      <td>47421</td>\n",
              "      <td>2010</td>\n",
              "    </tr>\n",
              "    <tr>\n",
              "      <th>12912</th>\n",
              "      <td>6513</td>\n",
              "      <td>Schorschbräu</td>\n",
              "      <td>2010-01-08 21:07:26</td>\n",
              "      <td>3.5</td>\n",
              "      <td>3.0</td>\n",
              "      <td>3.0</td>\n",
              "      <td>Absumaster</td>\n",
              "      <td>Doppelbock</td>\n",
              "      <td>3.0</td>\n",
              "      <td>3.5</td>\n",
              "      <td>Schorschbock</td>\n",
              "      <td>16.0</td>\n",
              "      <td>47421</td>\n",
              "      <td>2010</td>\n",
              "    </tr>\n",
              "    <tr>\n",
              "      <th>12913</th>\n",
              "      <td>6513</td>\n",
              "      <td>Schorschbräu</td>\n",
              "      <td>2009-10-23 06:30:22</td>\n",
              "      <td>4.0</td>\n",
              "      <td>3.5</td>\n",
              "      <td>3.0</td>\n",
              "      <td>Namako</td>\n",
              "      <td>Doppelbock</td>\n",
              "      <td>3.0</td>\n",
              "      <td>4.0</td>\n",
              "      <td>Schorschbock</td>\n",
              "      <td>16.0</td>\n",
              "      <td>47421</td>\n",
              "      <td>2009</td>\n",
              "    </tr>\n",
              "  </tbody>\n",
              "</table>\n",
              "</div>"
            ],
            "text/plain": [
              "       brewery_id  brewery_name  ... beer_beerid  year\n",
              "12909        6513  Schorschbräu  ...       32973  2006\n",
              "12910        6513  Schorschbräu  ...       73357  2011\n",
              "12911        6513  Schorschbräu  ...       47421  2010\n",
              "12912        6513  Schorschbräu  ...       47421  2010\n",
              "12913        6513  Schorschbräu  ...       47421  2009\n",
              "\n",
              "[5 rows x 14 columns]"
            ]
          },
          "metadata": {},
          "execution_count": 19
        }
      ]
    },
    {
      "cell_type": "code",
      "metadata": {
        "id": "_gEtLIPqQpEH"
      },
      "source": [
        "Schor_abv = Schor.groupby('beer_abv')['brewery_id'].count().reset_index()"
      ],
      "execution_count": null,
      "outputs": []
    },
    {
      "cell_type": "code",
      "metadata": {
        "colab": {
          "base_uri": "https://localhost:8080/",
          "height": 268
        },
        "id": "Bz-Z5uWaQ1GG",
        "outputId": "3bd8df00-05e2-4979-a40b-1fb23fbbccd6"
      },
      "source": [
        "Schor_abv"
      ],
      "execution_count": null,
      "outputs": [
        {
          "output_type": "execute_result",
          "data": {
            "text/html": [
              "<div>\n",
              "<style scoped>\n",
              "    .dataframe tbody tr th:only-of-type {\n",
              "        vertical-align: middle;\n",
              "    }\n",
              "\n",
              "    .dataframe tbody tr th {\n",
              "        vertical-align: top;\n",
              "    }\n",
              "\n",
              "    .dataframe thead th {\n",
              "        text-align: right;\n",
              "    }\n",
              "</style>\n",
              "<table border=\"1\" class=\"dataframe\">\n",
              "  <thead>\n",
              "    <tr style=\"text-align: right;\">\n",
              "      <th></th>\n",
              "      <th>beer_abv</th>\n",
              "      <th>brewery_id</th>\n",
              "    </tr>\n",
              "  </thead>\n",
              "  <tbody>\n",
              "    <tr>\n",
              "      <th>0</th>\n",
              "      <td>4.90</td>\n",
              "      <td>1</td>\n",
              "    </tr>\n",
              "    <tr>\n",
              "      <th>1</th>\n",
              "      <td>13.00</td>\n",
              "      <td>20</td>\n",
              "    </tr>\n",
              "    <tr>\n",
              "      <th>2</th>\n",
              "      <td>16.00</td>\n",
              "      <td>6</td>\n",
              "    </tr>\n",
              "    <tr>\n",
              "      <th>3</th>\n",
              "      <td>30.86</td>\n",
              "      <td>1</td>\n",
              "    </tr>\n",
              "    <tr>\n",
              "      <th>4</th>\n",
              "      <td>39.44</td>\n",
              "      <td>3</td>\n",
              "    </tr>\n",
              "    <tr>\n",
              "      <th>5</th>\n",
              "      <td>43.00</td>\n",
              "      <td>2</td>\n",
              "    </tr>\n",
              "    <tr>\n",
              "      <th>6</th>\n",
              "      <td>57.70</td>\n",
              "      <td>1</td>\n",
              "    </tr>\n",
              "  </tbody>\n",
              "</table>\n",
              "</div>"
            ],
            "text/plain": [
              "   beer_abv  brewery_id\n",
              "0      4.90           1\n",
              "1     13.00          20\n",
              "2     16.00           6\n",
              "3     30.86           1\n",
              "4     39.44           3\n",
              "5     43.00           2\n",
              "6     57.70           1"
            ]
          },
          "metadata": {},
          "execution_count": 21
        }
      ]
    },
    {
      "cell_type": "code",
      "metadata": {
        "colab": {
          "base_uri": "https://localhost:8080/",
          "height": 253
        },
        "id": "WSh_QCY5PVZI",
        "outputId": "b025fc4b-4d64-49f8-c177-b6f364a8a000"
      },
      "source": [
        "# Schorschbräu have 34 products of beer and more than 50% of them have abv is 13. Almost 97% beer of Schorschbräu have abv more than the average 7.\n",
        "fig1, ax1 = plt.subplots()\n",
        "ax1.pie(Schor_abv['brewery_id'], labels= Schor_abv['beer_abv'], startangle= 90)\n",
        "ax1.axis('equal')  # Equal aspect ratio ensures that pie is drawn as a circle.\n",
        "plt.show()"
      ],
      "execution_count": null,
      "outputs": [
        {
          "output_type": "display_data",
          "data": {
            "image/png": "[encoded data removed]",
            "text/plain": [
              "<Figure size 432x288 with 1 Axes>"
            ]
          },
          "metadata": {}
        }
      ]
    },
    {
      "cell_type": "markdown",
      "metadata": {
        "id": "QwHUKjFwqi9e"
      },
      "source": [
        "#### **BrewDog**"
      ]
    },
    {
      "cell_type": "code",
      "metadata": {
        "id": "KIzZw0wkqpXs"
      },
      "source": [
        "BD = df[df['brewery_id'] == 16315]"
      ],
      "execution_count": null,
      "outputs": []
    },
    {
      "cell_type": "code",
      "metadata": {
        "id": "9Q8Cnw_6qtr1"
      },
      "source": [
        "BD_abv = BD.groupby('beer_abv')['brewery_id'].count().reset_index().sort_values('brewery_id', ascending = False)"
      ],
      "execution_count": null,
      "outputs": []
    },
    {
      "cell_type": "code",
      "metadata": {
        "colab": {
          "base_uri": "https://localhost:8080/",
          "height": 1000
        },
        "id": "PzrsYsgvqy2Y",
        "outputId": "908a069a-1102-42fe-a3ea-8c37085d9cb8"
      },
      "source": [
        "BD_abv "
      ],
      "execution_count": null,
      "outputs": [
        {
          "output_type": "execute_result",
          "data": {
            "text/html": [
              "<div>\n",
              "<style scoped>\n",
              "    .dataframe tbody tr th:only-of-type {\n",
              "        vertical-align: middle;\n",
              "    }\n",
              "\n",
              "    .dataframe tbody tr th {\n",
              "        vertical-align: top;\n",
              "    }\n",
              "\n",
              "    .dataframe thead th {\n",
              "        text-align: right;\n",
              "    }\n",
              "</style>\n",
              "<table border=\"1\" class=\"dataframe\">\n",
              "  <thead>\n",
              "    <tr style=\"text-align: right;\">\n",
              "      <th></th>\n",
              "      <th>beer_abv</th>\n",
              "      <th>brewery_id</th>\n",
              "    </tr>\n",
              "  </thead>\n",
              "  <tbody>\n",
              "    <tr>\n",
              "      <th>28</th>\n",
              "      <td>10.00</td>\n",
              "      <td>680</td>\n",
              "    </tr>\n",
              "    <tr>\n",
              "      <th>21</th>\n",
              "      <td>8.60</td>\n",
              "      <td>411</td>\n",
              "    </tr>\n",
              "    <tr>\n",
              "      <th>12</th>\n",
              "      <td>6.00</td>\n",
              "      <td>368</td>\n",
              "    </tr>\n",
              "    <tr>\n",
              "      <th>24</th>\n",
              "      <td>9.00</td>\n",
              "      <td>329</td>\n",
              "    </tr>\n",
              "    <tr>\n",
              "      <th>18</th>\n",
              "      <td>8.00</td>\n",
              "      <td>314</td>\n",
              "    </tr>\n",
              "    <tr>\n",
              "      <th>8</th>\n",
              "      <td>5.00</td>\n",
              "      <td>228</td>\n",
              "    </tr>\n",
              "    <tr>\n",
              "      <th>17</th>\n",
              "      <td>7.80</td>\n",
              "      <td>203</td>\n",
              "    </tr>\n",
              "    <tr>\n",
              "      <th>27</th>\n",
              "      <td>9.50</td>\n",
              "      <td>195</td>\n",
              "    </tr>\n",
              "    <tr>\n",
              "      <th>40</th>\n",
              "      <td>18.20</td>\n",
              "      <td>184</td>\n",
              "    </tr>\n",
              "    <tr>\n",
              "      <th>35</th>\n",
              "      <td>12.50</td>\n",
              "      <td>138</td>\n",
              "    </tr>\n",
              "    <tr>\n",
              "      <th>7</th>\n",
              "      <td>4.90</td>\n",
              "      <td>106</td>\n",
              "    </tr>\n",
              "    <tr>\n",
              "      <th>16</th>\n",
              "      <td>7.50</td>\n",
              "      <td>106</td>\n",
              "    </tr>\n",
              "    <tr>\n",
              "      <th>25</th>\n",
              "      <td>9.20</td>\n",
              "      <td>98</td>\n",
              "    </tr>\n",
              "    <tr>\n",
              "      <th>42</th>\n",
              "      <td>32.00</td>\n",
              "      <td>88</td>\n",
              "    </tr>\n",
              "    <tr>\n",
              "      <th>43</th>\n",
              "      <td>41.00</td>\n",
              "      <td>76</td>\n",
              "    </tr>\n",
              "    <tr>\n",
              "      <th>14</th>\n",
              "      <td>7.10</td>\n",
              "      <td>72</td>\n",
              "    </tr>\n",
              "    <tr>\n",
              "      <th>4</th>\n",
              "      <td>4.10</td>\n",
              "      <td>60</td>\n",
              "    </tr>\n",
              "    <tr>\n",
              "      <th>34</th>\n",
              "      <td>12.00</td>\n",
              "      <td>51</td>\n",
              "    </tr>\n",
              "    <tr>\n",
              "      <th>33</th>\n",
              "      <td>11.50</td>\n",
              "      <td>43</td>\n",
              "    </tr>\n",
              "    <tr>\n",
              "      <th>13</th>\n",
              "      <td>6.20</td>\n",
              "      <td>39</td>\n",
              "    </tr>\n",
              "    <tr>\n",
              "      <th>0</th>\n",
              "      <td>0.50</td>\n",
              "      <td>29</td>\n",
              "    </tr>\n",
              "    <tr>\n",
              "      <th>19</th>\n",
              "      <td>8.20</td>\n",
              "      <td>27</td>\n",
              "    </tr>\n",
              "    <tr>\n",
              "      <th>11</th>\n",
              "      <td>5.60</td>\n",
              "      <td>27</td>\n",
              "    </tr>\n",
              "    <tr>\n",
              "      <th>20</th>\n",
              "      <td>8.50</td>\n",
              "      <td>23</td>\n",
              "    </tr>\n",
              "    <tr>\n",
              "      <th>36</th>\n",
              "      <td>13.00</td>\n",
              "      <td>15</td>\n",
              "    </tr>\n",
              "    <tr>\n",
              "      <th>6</th>\n",
              "      <td>4.70</td>\n",
              "      <td>15</td>\n",
              "    </tr>\n",
              "    <tr>\n",
              "      <th>29</th>\n",
              "      <td>10.20</td>\n",
              "      <td>14</td>\n",
              "    </tr>\n",
              "    <tr>\n",
              "      <th>37</th>\n",
              "      <td>15.00</td>\n",
              "      <td>14</td>\n",
              "    </tr>\n",
              "    <tr>\n",
              "      <th>32</th>\n",
              "      <td>11.20</td>\n",
              "      <td>13</td>\n",
              "    </tr>\n",
              "    <tr>\n",
              "      <th>10</th>\n",
              "      <td>5.50</td>\n",
              "      <td>9</td>\n",
              "    </tr>\n",
              "    <tr>\n",
              "      <th>5</th>\n",
              "      <td>4.50</td>\n",
              "      <td>9</td>\n",
              "    </tr>\n",
              "    <tr>\n",
              "      <th>38</th>\n",
              "      <td>17.20</td>\n",
              "      <td>9</td>\n",
              "    </tr>\n",
              "    <tr>\n",
              "      <th>39</th>\n",
              "      <td>18.00</td>\n",
              "      <td>9</td>\n",
              "    </tr>\n",
              "    <tr>\n",
              "      <th>2</th>\n",
              "      <td>3.40</td>\n",
              "      <td>6</td>\n",
              "    </tr>\n",
              "    <tr>\n",
              "      <th>31</th>\n",
              "      <td>10.50</td>\n",
              "      <td>5</td>\n",
              "    </tr>\n",
              "    <tr>\n",
              "      <th>1</th>\n",
              "      <td>2.70</td>\n",
              "      <td>3</td>\n",
              "    </tr>\n",
              "    <tr>\n",
              "      <th>26</th>\n",
              "      <td>9.30</td>\n",
              "      <td>3</td>\n",
              "    </tr>\n",
              "    <tr>\n",
              "      <th>15</th>\n",
              "      <td>7.20</td>\n",
              "      <td>3</td>\n",
              "    </tr>\n",
              "    <tr>\n",
              "      <th>41</th>\n",
              "      <td>28.00</td>\n",
              "      <td>3</td>\n",
              "    </tr>\n",
              "    <tr>\n",
              "      <th>30</th>\n",
              "      <td>10.27</td>\n",
              "      <td>2</td>\n",
              "    </tr>\n",
              "    <tr>\n",
              "      <th>9</th>\n",
              "      <td>5.40</td>\n",
              "      <td>2</td>\n",
              "    </tr>\n",
              "    <tr>\n",
              "      <th>22</th>\n",
              "      <td>8.70</td>\n",
              "      <td>2</td>\n",
              "    </tr>\n",
              "    <tr>\n",
              "      <th>23</th>\n",
              "      <td>8.90</td>\n",
              "      <td>1</td>\n",
              "    </tr>\n",
              "    <tr>\n",
              "      <th>3</th>\n",
              "      <td>3.50</td>\n",
              "      <td>1</td>\n",
              "    </tr>\n",
              "  </tbody>\n",
              "</table>\n",
              "</div>"
            ],
            "text/plain": [
              "    beer_abv  brewery_id\n",
              "28     10.00         680\n",
              "21      8.60         411\n",
              "12      6.00         368\n",
              "24      9.00         329\n",
              "18      8.00         314\n",
              "8       5.00         228\n",
              "17      7.80         203\n",
              "27      9.50         195\n",
              "40     18.20         184\n",
              "35     12.50         138\n",
              "7       4.90         106\n",
              "16      7.50         106\n",
              "25      9.20          98\n",
              "42     32.00          88\n",
              "43     41.00          76\n",
              "14      7.10          72\n",
              "4       4.10          60\n",
              "34     12.00          51\n",
              "33     11.50          43\n",
              "13      6.20          39\n",
              "0       0.50          29\n",
              "19      8.20          27\n",
              "11      5.60          27\n",
              "20      8.50          23\n",
              "36     13.00          15\n",
              "6       4.70          15\n",
              "29     10.20          14\n",
              "37     15.00          14\n",
              "32     11.20          13\n",
              "10      5.50           9\n",
              "5       4.50           9\n",
              "38     17.20           9\n",
              "39     18.00           9\n",
              "2       3.40           6\n",
              "31     10.50           5\n",
              "1       2.70           3\n",
              "26      9.30           3\n",
              "15      7.20           3\n",
              "41     28.00           3\n",
              "30     10.27           2\n",
              "9       5.40           2\n",
              "22      8.70           2\n",
              "23      8.90           1\n",
              "3       3.50           1"
            ]
          },
          "metadata": {},
          "execution_count": 25
        }
      ]
    },
    {
      "cell_type": "markdown",
      "metadata": {
        "id": "utd19rSv7cnP"
      },
      "source": [
        "### Question 2: If you had to pick 3 beers to recommend using only this data, which would you pick?"
      ]
    },
    {
      "cell_type": "code",
      "metadata": {
        "id": "0ovf9eTb_Svc"
      },
      "source": [
        "beer = df.groupby(['beer_beerid','beer_name'])[['review_overall','review_aroma','review_appearance','review_palate','review_taste','brewery_name','beer_abv']].agg({\n",
        "    'review_overall': 'mean',\n",
        "    'review_aroma': 'mean',\n",
        "    'review_appearance': 'mean',\n",
        "    'review_palate': 'mean',\n",
        "    'review_taste': 'mean',\n",
        "    'brewery_name': 'count',\n",
        "    'beer_abv': 'mean'\n",
        "}).reset_index()"
      ],
      "execution_count": null,
      "outputs": []
    },
    {
      "cell_type": "code",
      "metadata": {
        "id": "lXgue51iFYd3"
      },
      "source": [
        "beer = beer.sort_values(by = ['brewery_name'],\n",
        "                        ascending = False)"
      ],
      "execution_count": null,
      "outputs": []
    },
    {
      "cell_type": "code",
      "metadata": {
        "id": "0H04va_NHi4G"
      },
      "source": [
        "beer['review_score'] = (beer['review_aroma'] + beer['review_appearance'] + beer['review_palate'] + beer['review_taste'])/4"
      ],
      "execution_count": null,
      "outputs": []
    },
    {
      "cell_type": "code",
      "metadata": {
        "id": "d50tMk_XI6_z"
      },
      "source": [
        "beer.rename(columns = {'brewery_name': 'number_review'}, inplace = True)"
      ],
      "execution_count": null,
      "outputs": []
    },
    {
      "cell_type": "code",
      "metadata": {
        "colab": {
          "base_uri": "https://localhost:8080/",
          "height": 422
        },
        "id": "N04MIJvxJe2d",
        "outputId": "d31faad1-86c5-402a-c35c-15de1d28ec6e"
      },
      "source": [
        "beer"
      ],
      "execution_count": null,
      "outputs": [
        {
          "output_type": "execute_result",
          "data": {
            "text/html": [
              "<div>\n",
              "<style scoped>\n",
              "    .dataframe tbody tr th:only-of-type {\n",
              "        vertical-align: middle;\n",
              "    }\n",
              "\n",
              "    .dataframe tbody tr th {\n",
              "        vertical-align: top;\n",
              "    }\n",
              "\n",
              "    .dataframe thead th {\n",
              "        text-align: right;\n",
              "    }\n",
              "</style>\n",
              "<table border=\"1\" class=\"dataframe\">\n",
              "  <thead>\n",
              "    <tr style=\"text-align: right;\">\n",
              "      <th></th>\n",
              "      <th>beer_beerid</th>\n",
              "      <th>beer_name</th>\n",
              "      <th>review_overall</th>\n",
              "      <th>review_aroma</th>\n",
              "      <th>review_appearance</th>\n",
              "      <th>review_palate</th>\n",
              "      <th>review_taste</th>\n",
              "      <th>number_review</th>\n",
              "      <th>beer_abv</th>\n",
              "      <th>review_score</th>\n",
              "    </tr>\n",
              "  </thead>\n",
              "  <tbody>\n",
              "    <tr>\n",
              "      <th>1364</th>\n",
              "      <td>2093</td>\n",
              "      <td>90 Minute IPA</td>\n",
              "      <td>4.145529</td>\n",
              "      <td>4.213504</td>\n",
              "      <td>4.192214</td>\n",
              "      <td>4.181265</td>\n",
              "      <td>4.326034</td>\n",
              "      <td>3288</td>\n",
              "      <td>9.0</td>\n",
              "      <td>4.228254</td>\n",
              "    </tr>\n",
              "    <tr>\n",
              "      <th>295</th>\n",
              "      <td>412</td>\n",
              "      <td>Old Rasputin Russian Imperial Stout</td>\n",
              "      <td>4.172748</td>\n",
              "      <td>4.197288</td>\n",
              "      <td>4.373587</td>\n",
              "      <td>4.231353</td>\n",
              "      <td>4.340006</td>\n",
              "      <td>3097</td>\n",
              "      <td>9.0</td>\n",
              "      <td>4.285559</td>\n",
              "    </tr>\n",
              "    <tr>\n",
              "      <th>1243</th>\n",
              "      <td>1904</td>\n",
              "      <td>Sierra Nevada Celebration Ale</td>\n",
              "      <td>4.166778</td>\n",
              "      <td>4.081547</td>\n",
              "      <td>4.224213</td>\n",
              "      <td>4.073342</td>\n",
              "      <td>4.186872</td>\n",
              "      <td>2986</td>\n",
              "      <td>6.8</td>\n",
              "      <td>4.141494</td>\n",
              "    </tr>\n",
              "    <tr>\n",
              "      <th>701</th>\n",
              "      <td>1093</td>\n",
              "      <td>Two Hearted Ale</td>\n",
              "      <td>4.329971</td>\n",
              "      <td>4.266324</td>\n",
              "      <td>4.153888</td>\n",
              "      <td>4.138665</td>\n",
              "      <td>4.319149</td>\n",
              "      <td>2726</td>\n",
              "      <td>7.0</td>\n",
              "      <td>4.219507</td>\n",
              "    </tr>\n",
              "    <tr>\n",
              "      <th>2580</th>\n",
              "      <td>4083</td>\n",
              "      <td>Stone Ruination IPA</td>\n",
              "      <td>4.161547</td>\n",
              "      <td>4.341229</td>\n",
              "      <td>4.178942</td>\n",
              "      <td>4.183383</td>\n",
              "      <td>4.351036</td>\n",
              "      <td>2702</td>\n",
              "      <td>7.7</td>\n",
              "      <td>4.263647</td>\n",
              "    </tr>\n",
              "    <tr>\n",
              "      <th>...</th>\n",
              "      <td>...</td>\n",
              "      <td>...</td>\n",
              "      <td>...</td>\n",
              "      <td>...</td>\n",
              "      <td>...</td>\n",
              "      <td>...</td>\n",
              "      <td>...</td>\n",
              "      <td>...</td>\n",
              "      <td>...</td>\n",
              "      <td>...</td>\n",
              "    </tr>\n",
              "    <tr>\n",
              "      <th>14764</th>\n",
              "      <td>26099</td>\n",
              "      <td>Navideña</td>\n",
              "      <td>4.000000</td>\n",
              "      <td>4.000000</td>\n",
              "      <td>4.500000</td>\n",
              "      <td>4.000000</td>\n",
              "      <td>4.000000</td>\n",
              "      <td>1</td>\n",
              "      <td>5.0</td>\n",
              "      <td>4.125000</td>\n",
              "    </tr>\n",
              "    <tr>\n",
              "      <th>14767</th>\n",
              "      <td>26104</td>\n",
              "      <td>Runöl Mörk Lager</td>\n",
              "      <td>3.000000</td>\n",
              "      <td>3.500000</td>\n",
              "      <td>4.000000</td>\n",
              "      <td>3.500000</td>\n",
              "      <td>3.500000</td>\n",
              "      <td>1</td>\n",
              "      <td>5.0</td>\n",
              "      <td>3.625000</td>\n",
              "    </tr>\n",
              "    <tr>\n",
              "      <th>14778</th>\n",
              "      <td>26115</td>\n",
              "      <td>Bear Paw Burton Ale</td>\n",
              "      <td>3.500000</td>\n",
              "      <td>2.500000</td>\n",
              "      <td>4.000000</td>\n",
              "      <td>3.000000</td>\n",
              "      <td>3.500000</td>\n",
              "      <td>1</td>\n",
              "      <td>6.5</td>\n",
              "      <td>3.250000</td>\n",
              "    </tr>\n",
              "    <tr>\n",
              "      <th>34399</th>\n",
              "      <td>56735</td>\n",
              "      <td>Prae&amp;#269;ka Christmas</td>\n",
              "      <td>3.500000</td>\n",
              "      <td>3.000000</td>\n",
              "      <td>4.000000</td>\n",
              "      <td>3.500000</td>\n",
              "      <td>3.500000</td>\n",
              "      <td>1</td>\n",
              "      <td>5.8</td>\n",
              "      <td>3.500000</td>\n",
              "    </tr>\n",
              "    <tr>\n",
              "      <th>48983</th>\n",
              "      <td>77316</td>\n",
              "      <td>Crank Yanker IPA</td>\n",
              "      <td>3.500000</td>\n",
              "      <td>3.500000</td>\n",
              "      <td>3.500000</td>\n",
              "      <td>3.500000</td>\n",
              "      <td>3.500000</td>\n",
              "      <td>1</td>\n",
              "      <td>7.8</td>\n",
              "      <td>3.500000</td>\n",
              "    </tr>\n",
              "  </tbody>\n",
              "</table>\n",
              "<p>48984 rows × 10 columns</p>\n",
              "</div>"
            ],
            "text/plain": [
              "       beer_beerid                            beer_name  ...  beer_abv  review_score\n",
              "1364          2093                        90 Minute IPA  ...       9.0      4.228254\n",
              "295            412  Old Rasputin Russian Imperial Stout  ...       9.0      4.285559\n",
              "1243          1904        Sierra Nevada Celebration Ale  ...       6.8      4.141494\n",
              "701           1093                      Two Hearted Ale  ...       7.0      4.219507\n",
              "2580          4083                  Stone Ruination IPA  ...       7.7      4.263647\n",
              "...            ...                                  ...  ...       ...           ...\n",
              "14764        26099                             Navideña  ...       5.0      4.125000\n",
              "14767        26104                     Runöl Mörk Lager  ...       5.0      3.625000\n",
              "14778        26115                  Bear Paw Burton Ale  ...       6.5      3.250000\n",
              "34399        56735              Prae&#269;ka Christmas  ...       5.8      3.500000\n",
              "48983        77316                     Crank Yanker IPA  ...       7.8      3.500000\n",
              "\n",
              "[48984 rows x 10 columns]"
            ]
          },
          "metadata": {},
          "execution_count": 96
        }
      ]
    },
    {
      "cell_type": "code",
      "metadata": {
        "colab": {
          "base_uri": "https://localhost:8080/",
          "height": 388
        },
        "id": "6Yoq-f1gr51F",
        "outputId": "ae50958e-4c5a-4c82-f386-614f992a428f"
      },
      "source": [
        "# Scatter plot of Review score and Number of Review\n",
        "# As we can see that higher number of reviews might be higher review score average\n",
        "plt.figure( figsize = (12,6))\n",
        "plt.scatter( beer['number_review'], beer['review_score'], marker ='.')\n",
        "plt.xlabel( 'Number od Reviews' )\n",
        "plt.ylabel( 'Review Score Average' )\n",
        "plt.show()"
      ],
      "execution_count": null,
      "outputs": [
        {
          "output_type": "display_data",
          "data": {
            "image/png": "[encoded data removed]",
            "text/plain": [
              "<Figure size 864x432 with 1 Axes>"
            ]
          },
          "metadata": {
            "needs_background": "light"
          }
        }
      ]
    },
    {
      "cell_type": "code",
      "metadata": {
        "id": "pm9gLzHQJz8-"
      },
      "source": [
        "recommend = beer[(beer['number_review'] > 2500)].sort_values(by = ['review_score'], ascending = False).head(3)"
      ],
      "execution_count": null,
      "outputs": []
    },
    {
      "cell_type": "code",
      "metadata": {
        "colab": {
          "base_uri": "https://localhost:8080/",
          "height": 143
        },
        "id": "kXGukiOPN5Ab",
        "outputId": "43cc7321-a1ba-469f-9e09-b50b8377481f"
      },
      "source": [
        "recommend"
      ],
      "execution_count": null,
      "outputs": [
        {
          "output_type": "execute_result",
          "data": {
            "text/html": [
              "<div>\n",
              "<style scoped>\n",
              "    .dataframe tbody tr th:only-of-type {\n",
              "        vertical-align: middle;\n",
              "    }\n",
              "\n",
              "    .dataframe tbody tr th {\n",
              "        vertical-align: top;\n",
              "    }\n",
              "\n",
              "    .dataframe thead th {\n",
              "        text-align: right;\n",
              "    }\n",
              "</style>\n",
              "<table border=\"1\" class=\"dataframe\">\n",
              "  <thead>\n",
              "    <tr style=\"text-align: right;\">\n",
              "      <th></th>\n",
              "      <th>beer_beerid</th>\n",
              "      <th>beer_name</th>\n",
              "      <th>review_overall</th>\n",
              "      <th>review_aroma</th>\n",
              "      <th>review_appearance</th>\n",
              "      <th>review_palate</th>\n",
              "      <th>review_taste</th>\n",
              "      <th>number_review</th>\n",
              "      <th>beer_abv</th>\n",
              "      <th>review_score</th>\n",
              "    </tr>\n",
              "  </thead>\n",
              "  <tbody>\n",
              "    <tr>\n",
              "      <th>4684</th>\n",
              "      <td>7971</td>\n",
              "      <td>Pliny The Elder</td>\n",
              "      <td>4.590028</td>\n",
              "      <td>4.612188</td>\n",
              "      <td>4.388603</td>\n",
              "      <td>4.451326</td>\n",
              "      <td>4.630985</td>\n",
              "      <td>2527</td>\n",
              "      <td>8.0</td>\n",
              "      <td>4.520776</td>\n",
              "    </tr>\n",
              "    <tr>\n",
              "      <th>6668</th>\n",
              "      <td>11757</td>\n",
              "      <td>Founders Breakfast Stout</td>\n",
              "      <td>4.354658</td>\n",
              "      <td>4.412035</td>\n",
              "      <td>4.364454</td>\n",
              "      <td>4.388045</td>\n",
              "      <td>4.501200</td>\n",
              "      <td>2501</td>\n",
              "      <td>8.3</td>\n",
              "      <td>4.416433</td>\n",
              "    </tr>\n",
              "    <tr>\n",
              "      <th>295</th>\n",
              "      <td>412</td>\n",
              "      <td>Old Rasputin Russian Imperial Stout</td>\n",
              "      <td>4.172748</td>\n",
              "      <td>4.197288</td>\n",
              "      <td>4.373587</td>\n",
              "      <td>4.231353</td>\n",
              "      <td>4.340006</td>\n",
              "      <td>3097</td>\n",
              "      <td>9.0</td>\n",
              "      <td>4.285559</td>\n",
              "    </tr>\n",
              "  </tbody>\n",
              "</table>\n",
              "</div>"
            ],
            "text/plain": [
              "      beer_beerid                            beer_name  ...  beer_abv  review_score\n",
              "4684         7971                      Pliny The Elder  ...       8.0      4.520776\n",
              "6668        11757             Founders Breakfast Stout  ...       8.3      4.416433\n",
              "295           412  Old Rasputin Russian Imperial Stout  ...       9.0      4.285559\n",
              "\n",
              "[3 rows x 10 columns]"
            ]
          },
          "metadata": {},
          "execution_count": 101
        }
      ]
    },
    {
      "cell_type": "markdown",
      "metadata": {
        "id": "6vLjvHj0OJaq"
      },
      "source": [
        "I choose to recommend beer with the review number is more than 2500 (so that review score is quite fair) and review score (average of aroma, appearance, palete, taste) is as high as possile. And 3 beer I reccomend is Pliny The Elder, Founders Breakfast Stout, Old Rasputin Russian Imperial Stout. As you can see from table below: these three beer come from three different company however all of them are darker in color, more bitter, and have a higher ABV than typical American IPA (all beer have abv from 8 to 9)"
      ]
    },
    {
      "cell_type": "code",
      "metadata": {
        "id": "4H2p67mNZJld"
      },
      "source": [
        "company_beer_name = pd.merge(recommend['beer_name'], df[['beer_name', 'brewery_name','beer_style']], how = 'left', on = 'beer_name')"
      ],
      "execution_count": null,
      "outputs": []
    },
    {
      "cell_type": "code",
      "metadata": {
        "id": "tYcQ2h88bFTJ"
      },
      "source": [
        "company_beer_name.drop_duplicates(subset =\"beer_name\",\n",
        "                                  keep = 'first',\n",
        "                                  inplace = True)"
      ],
      "execution_count": null,
      "outputs": []
    },
    {
      "cell_type": "code",
      "metadata": {
        "colab": {
          "base_uri": "https://localhost:8080/",
          "height": 143
        },
        "id": "W44zP9J5bX7g",
        "outputId": "a9c38284-652e-49a9-944b-66cca13ef271"
      },
      "source": [
        "company_beer_name"
      ],
      "execution_count": null,
      "outputs": [
        {
          "output_type": "execute_result",
          "data": {
            "text/html": [
              "<div>\n",
              "<style scoped>\n",
              "    .dataframe tbody tr th:only-of-type {\n",
              "        vertical-align: middle;\n",
              "    }\n",
              "\n",
              "    .dataframe tbody tr th {\n",
              "        vertical-align: top;\n",
              "    }\n",
              "\n",
              "    .dataframe thead th {\n",
              "        text-align: right;\n",
              "    }\n",
              "</style>\n",
              "<table border=\"1\" class=\"dataframe\">\n",
              "  <thead>\n",
              "    <tr style=\"text-align: right;\">\n",
              "      <th></th>\n",
              "      <th>beer_name</th>\n",
              "      <th>brewery_name</th>\n",
              "      <th>beer_style</th>\n",
              "    </tr>\n",
              "  </thead>\n",
              "  <tbody>\n",
              "    <tr>\n",
              "      <th>0</th>\n",
              "      <td>Pliny The Elder</td>\n",
              "      <td>Russian River Brewing Company</td>\n",
              "      <td>American Double / Imperial IPA</td>\n",
              "    </tr>\n",
              "    <tr>\n",
              "      <th>2527</th>\n",
              "      <td>Founders Breakfast Stout</td>\n",
              "      <td>Founders Brewing Company</td>\n",
              "      <td>American Double / Imperial Stout</td>\n",
              "    </tr>\n",
              "    <tr>\n",
              "      <th>5028</th>\n",
              "      <td>Old Rasputin Russian Imperial Stout</td>\n",
              "      <td>North Coast Brewing Co.</td>\n",
              "      <td>Russian Imperial Stout</td>\n",
              "    </tr>\n",
              "  </tbody>\n",
              "</table>\n",
              "</div>"
            ],
            "text/plain": [
              "                                beer_name  ...                        beer_style\n",
              "0                         Pliny The Elder  ...    American Double / Imperial IPA\n",
              "2527             Founders Breakfast Stout  ...  American Double / Imperial Stout\n",
              "5028  Old Rasputin Russian Imperial Stout  ...            Russian Imperial Stout\n",
              "\n",
              "[3 rows x 3 columns]"
            ]
          },
          "metadata": {},
          "execution_count": 104
        }
      ]
    },
    {
      "cell_type": "markdown",
      "metadata": {
        "id": "NM7G_yfXSFx9"
      },
      "source": [
        "### Question 3: Which of the factors (aroma, taste, appearance, palette) are most important in determining the overall quality of a beer?"
      ]
    },
    {
      "cell_type": "code",
      "metadata": {
        "colab": {
          "base_uri": "https://localhost:8080/",
          "height": 205
        },
        "id": "riom_027UM-K",
        "outputId": "26393ffd-cfda-4624-c9af-45705323fdda"
      },
      "source": [
        "df[['review_overall','review_aroma','review_appearance','review_palate','review_taste']].corr().style.background_gradient(cmap='Reds')"
      ],
      "execution_count": null,
      "outputs": [
        {
          "output_type": "execute_result",
          "data": {
            "text/html": [
              "<style  type=\"text/css\" >\n",
              "#T_33d484e4_3ac5_11ec_88e0_0242ac1c0002row0_col0,#T_33d484e4_3ac5_11ec_88e0_0242ac1c0002row1_col1,#T_33d484e4_3ac5_11ec_88e0_0242ac1c0002row2_col2,#T_33d484e4_3ac5_11ec_88e0_0242ac1c0002row3_col3,#T_33d484e4_3ac5_11ec_88e0_0242ac1c0002row4_col4{\n",
              "            background-color:  #67000d;\n",
              "            color:  #f1f1f1;\n",
              "        }#T_33d484e4_3ac5_11ec_88e0_0242ac1c0002row0_col1{\n",
              "            background-color:  #fee1d3;\n",
              "            color:  #000000;\n",
              "        }#T_33d484e4_3ac5_11ec_88e0_0242ac1c0002row0_col2,#T_33d484e4_3ac5_11ec_88e0_0242ac1c0002row2_col0,#T_33d484e4_3ac5_11ec_88e0_0242ac1c0002row2_col1,#T_33d484e4_3ac5_11ec_88e0_0242ac1c0002row2_col3,#T_33d484e4_3ac5_11ec_88e0_0242ac1c0002row2_col4{\n",
              "            background-color:  #fff5f0;\n",
              "            color:  #000000;\n",
              "        }#T_33d484e4_3ac5_11ec_88e0_0242ac1c0002row0_col3{\n",
              "            background-color:  #fca98c;\n",
              "            color:  #000000;\n",
              "        }#T_33d484e4_3ac5_11ec_88e0_0242ac1c0002row0_col4{\n",
              "            background-color:  #f85d42;\n",
              "            color:  #000000;\n",
              "        }#T_33d484e4_3ac5_11ec_88e0_0242ac1c0002row1_col0{\n",
              "            background-color:  #fcc2aa;\n",
              "            color:  #000000;\n",
              "        }#T_33d484e4_3ac5_11ec_88e0_0242ac1c0002row1_col2{\n",
              "            background-color:  #fee1d4;\n",
              "            color:  #000000;\n",
              "        }#T_33d484e4_3ac5_11ec_88e0_0242ac1c0002row1_col3{\n",
              "            background-color:  #fee2d5;\n",
              "            color:  #000000;\n",
              "        }#T_33d484e4_3ac5_11ec_88e0_0242ac1c0002row1_col4{\n",
              "            background-color:  #fc9373;\n",
              "            color:  #000000;\n",
              "        }#T_33d484e4_3ac5_11ec_88e0_0242ac1c0002row3_col0{\n",
              "            background-color:  #fc8a6a;\n",
              "            color:  #000000;\n",
              "        }#T_33d484e4_3ac5_11ec_88e0_0242ac1c0002row3_col1{\n",
              "            background-color:  #fee0d2;\n",
              "            color:  #000000;\n",
              "        }#T_33d484e4_3ac5_11ec_88e0_0242ac1c0002row3_col2{\n",
              "            background-color:  #fedfd0;\n",
              "            color:  #000000;\n",
              "        }#T_33d484e4_3ac5_11ec_88e0_0242ac1c0002row3_col4{\n",
              "            background-color:  #fc8666;\n",
              "            color:  #000000;\n",
              "        }#T_33d484e4_3ac5_11ec_88e0_0242ac1c0002row4_col0{\n",
              "            background-color:  #f44d38;\n",
              "            color:  #000000;\n",
              "        }#T_33d484e4_3ac5_11ec_88e0_0242ac1c0002row4_col1{\n",
              "            background-color:  #fc997a;\n",
              "            color:  #000000;\n",
              "        }#T_33d484e4_3ac5_11ec_88e0_0242ac1c0002row4_col2{\n",
              "            background-color:  #fee6da;\n",
              "            color:  #000000;\n",
              "        }#T_33d484e4_3ac5_11ec_88e0_0242ac1c0002row4_col3{\n",
              "            background-color:  #fc8f6f;\n",
              "            color:  #000000;\n",
              "        }</style><table id=\"T_33d484e4_3ac5_11ec_88e0_0242ac1c0002\" class=\"dataframe\"><thead>    <tr>        <th class=\"blank level0\" ></th>        <th class=\"col_heading level0 col0\" >review_overall</th>        <th class=\"col_heading level0 col1\" >review_aroma</th>        <th class=\"col_heading level0 col2\" >review_appearance</th>        <th class=\"col_heading level0 col3\" >review_palate</th>        <th class=\"col_heading level0 col4\" >review_taste</th>    </tr></thead><tbody>\n",
              "                <tr>\n",
              "                        <th id=\"T_33d484e4_3ac5_11ec_88e0_0242ac1c0002level0_row0\" class=\"row_heading level0 row0\" >review_overall</th>\n",
              "                        <td id=\"T_33d484e4_3ac5_11ec_88e0_0242ac1c0002row0_col0\" class=\"data row0 col0\" >1.000000</td>\n",
              "                        <td id=\"T_33d484e4_3ac5_11ec_88e0_0242ac1c0002row0_col1\" class=\"data row0 col1\" >0.612414</td>\n",
              "                        <td id=\"T_33d484e4_3ac5_11ec_88e0_0242ac1c0002row0_col2\" class=\"data row0 col2\" >0.498001</td>\n",
              "                        <td id=\"T_33d484e4_3ac5_11ec_88e0_0242ac1c0002row0_col3\" class=\"data row0 col3\" >0.698692</td>\n",
              "                        <td id=\"T_33d484e4_3ac5_11ec_88e0_0242ac1c0002row0_col4\" class=\"data row0 col4\" >0.786965</td>\n",
              "            </tr>\n",
              "            <tr>\n",
              "                        <th id=\"T_33d484e4_3ac5_11ec_88e0_0242ac1c0002level0_row1\" class=\"row_heading level0 row1\" >review_aroma</th>\n",
              "                        <td id=\"T_33d484e4_3ac5_11ec_88e0_0242ac1c0002row1_col0\" class=\"data row1 col0\" >0.612414</td>\n",
              "                        <td id=\"T_33d484e4_3ac5_11ec_88e0_0242ac1c0002row1_col1\" class=\"data row1 col1\" >1.000000</td>\n",
              "                        <td id=\"T_33d484e4_3ac5_11ec_88e0_0242ac1c0002row1_col2\" class=\"data row1 col2\" >0.558705</td>\n",
              "                        <td id=\"T_33d484e4_3ac5_11ec_88e0_0242ac1c0002row1_col3\" class=\"data row1 col3\" >0.614554</td>\n",
              "                        <td id=\"T_33d484e4_3ac5_11ec_88e0_0242ac1c0002row1_col4\" class=\"data row1 col4\" >0.714572</td>\n",
              "            </tr>\n",
              "            <tr>\n",
              "                        <th id=\"T_33d484e4_3ac5_11ec_88e0_0242ac1c0002level0_row2\" class=\"row_heading level0 row2\" >review_appearance</th>\n",
              "                        <td id=\"T_33d484e4_3ac5_11ec_88e0_0242ac1c0002row2_col0\" class=\"data row2 col0\" >0.498001</td>\n",
              "                        <td id=\"T_33d484e4_3ac5_11ec_88e0_0242ac1c0002row2_col1\" class=\"data row2 col1\" >0.558705</td>\n",
              "                        <td id=\"T_33d484e4_3ac5_11ec_88e0_0242ac1c0002row2_col2\" class=\"data row2 col2\" >1.000000</td>\n",
              "                        <td id=\"T_33d484e4_3ac5_11ec_88e0_0242ac1c0002row2_col3\" class=\"data row2 col3\" >0.564222</td>\n",
              "                        <td id=\"T_33d484e4_3ac5_11ec_88e0_0242ac1c0002row2_col4\" class=\"data row2 col4\" >0.544211</td>\n",
              "            </tr>\n",
              "            <tr>\n",
              "                        <th id=\"T_33d484e4_3ac5_11ec_88e0_0242ac1c0002level0_row3\" class=\"row_heading level0 row3\" >review_palate</th>\n",
              "                        <td id=\"T_33d484e4_3ac5_11ec_88e0_0242ac1c0002row3_col0\" class=\"data row3 col0\" >0.698692</td>\n",
              "                        <td id=\"T_33d484e4_3ac5_11ec_88e0_0242ac1c0002row3_col1\" class=\"data row3 col1\" >0.614554</td>\n",
              "                        <td id=\"T_33d484e4_3ac5_11ec_88e0_0242ac1c0002row3_col2\" class=\"data row3 col2\" >0.564222</td>\n",
              "                        <td id=\"T_33d484e4_3ac5_11ec_88e0_0242ac1c0002row3_col3\" class=\"data row3 col3\" >1.000000</td>\n",
              "                        <td id=\"T_33d484e4_3ac5_11ec_88e0_0242ac1c0002row3_col4\" class=\"data row3 col4\" >0.731947</td>\n",
              "            </tr>\n",
              "            <tr>\n",
              "                        <th id=\"T_33d484e4_3ac5_11ec_88e0_0242ac1c0002level0_row4\" class=\"row_heading level0 row4\" >review_taste</th>\n",
              "                        <td id=\"T_33d484e4_3ac5_11ec_88e0_0242ac1c0002row4_col0\" class=\"data row4 col0\" >0.786965</td>\n",
              "                        <td id=\"T_33d484e4_3ac5_11ec_88e0_0242ac1c0002row4_col1\" class=\"data row4 col1\" >0.714572</td>\n",
              "                        <td id=\"T_33d484e4_3ac5_11ec_88e0_0242ac1c0002row4_col2\" class=\"data row4 col2\" >0.544211</td>\n",
              "                        <td id=\"T_33d484e4_3ac5_11ec_88e0_0242ac1c0002row4_col3\" class=\"data row4 col3\" >0.731947</td>\n",
              "                        <td id=\"T_33d484e4_3ac5_11ec_88e0_0242ac1c0002row4_col4\" class=\"data row4 col4\" >1.000000</td>\n",
              "            </tr>\n",
              "    </tbody></table>"
            ],
            "text/plain": [
              "<pandas.io.formats.style.Styler at 0x7f21222ef4d0>"
            ]
          },
          "metadata": {},
          "execution_count": 37
        }
      ]
    },
    {
      "cell_type": "markdown",
      "metadata": {
        "id": "pBEZ9t0ycwDu"
      },
      "source": [
        "All of these review correlate to overall review. With 0.79 coefficent, taste seem to be the most important feature that affects overall review. The impact can be arranged in a descending order as: Taste (0.79) > Palate (0.70) > Aroma (0.62) > Appearance (0.50)."
      ]
    },
    {
      "cell_type": "code",
      "metadata": {
        "colab": {
          "base_uri": "https://localhost:8080/",
          "height": 205
        },
        "id": "TJOEYpbFdqzt",
        "outputId": "3c696a69-05c8-449e-e52a-2773b6ad37bf"
      },
      "source": [
        "beer[['review_overall','review_aroma','review_appearance','review_palate','review_taste']].corr().style.background_gradient(cmap='Reds')"
      ],
      "execution_count": null,
      "outputs": [
        {
          "output_type": "execute_result",
          "data": {
            "text/html": [
              "<style  type=\"text/css\" >\n",
              "#T_33dac5e8_3ac5_11ec_88e0_0242ac1c0002row0_col0,#T_33dac5e8_3ac5_11ec_88e0_0242ac1c0002row1_col1,#T_33dac5e8_3ac5_11ec_88e0_0242ac1c0002row2_col2,#T_33dac5e8_3ac5_11ec_88e0_0242ac1c0002row3_col3,#T_33dac5e8_3ac5_11ec_88e0_0242ac1c0002row4_col4{\n",
              "            background-color:  #67000d;\n",
              "            color:  #f1f1f1;\n",
              "        }#T_33dac5e8_3ac5_11ec_88e0_0242ac1c0002row0_col1{\n",
              "            background-color:  #fcae92;\n",
              "            color:  #000000;\n",
              "        }#T_33dac5e8_3ac5_11ec_88e0_0242ac1c0002row0_col2,#T_33dac5e8_3ac5_11ec_88e0_0242ac1c0002row2_col0,#T_33dac5e8_3ac5_11ec_88e0_0242ac1c0002row2_col1,#T_33dac5e8_3ac5_11ec_88e0_0242ac1c0002row2_col3,#T_33dac5e8_3ac5_11ec_88e0_0242ac1c0002row2_col4{\n",
              "            background-color:  #fff5f0;\n",
              "            color:  #000000;\n",
              "        }#T_33dac5e8_3ac5_11ec_88e0_0242ac1c0002row0_col3{\n",
              "            background-color:  #fc8060;\n",
              "            color:  #000000;\n",
              "        }#T_33dac5e8_3ac5_11ec_88e0_0242ac1c0002row0_col4{\n",
              "            background-color:  #ea362a;\n",
              "            color:  #f1f1f1;\n",
              "        }#T_33dac5e8_3ac5_11ec_88e0_0242ac1c0002row1_col0{\n",
              "            background-color:  #fc9e80;\n",
              "            color:  #000000;\n",
              "        }#T_33dac5e8_3ac5_11ec_88e0_0242ac1c0002row1_col2{\n",
              "            background-color:  #feeae0;\n",
              "            color:  #000000;\n",
              "        }#T_33dac5e8_3ac5_11ec_88e0_0242ac1c0002row1_col3{\n",
              "            background-color:  #fdcbb6;\n",
              "            color:  #000000;\n",
              "        }#T_33dac5e8_3ac5_11ec_88e0_0242ac1c0002row1_col4,#T_33dac5e8_3ac5_11ec_88e0_0242ac1c0002row4_col1,#T_33dac5e8_3ac5_11ec_88e0_0242ac1c0002row4_col3{\n",
              "            background-color:  #fb7555;\n",
              "            color:  #000000;\n",
              "        }#T_33dac5e8_3ac5_11ec_88e0_0242ac1c0002row3_col0,#T_33dac5e8_3ac5_11ec_88e0_0242ac1c0002row3_col4{\n",
              "            background-color:  #fb6b4b;\n",
              "            color:  #000000;\n",
              "        }#T_33dac5e8_3ac5_11ec_88e0_0242ac1c0002row3_col1{\n",
              "            background-color:  #fcbea5;\n",
              "            color:  #000000;\n",
              "        }#T_33dac5e8_3ac5_11ec_88e0_0242ac1c0002row3_col2{\n",
              "            background-color:  #fee1d4;\n",
              "            color:  #000000;\n",
              "        }#T_33dac5e8_3ac5_11ec_88e0_0242ac1c0002row4_col0{\n",
              "            background-color:  #e32f27;\n",
              "            color:  #f1f1f1;\n",
              "        }#T_33dac5e8_3ac5_11ec_88e0_0242ac1c0002row4_col2{\n",
              "            background-color:  #feeae1;\n",
              "            color:  #000000;\n",
              "        }</style><table id=\"T_33dac5e8_3ac5_11ec_88e0_0242ac1c0002\" class=\"dataframe\"><thead>    <tr>        <th class=\"blank level0\" ></th>        <th class=\"col_heading level0 col0\" >review_overall</th>        <th class=\"col_heading level0 col1\" >review_aroma</th>        <th class=\"col_heading level0 col2\" >review_appearance</th>        <th class=\"col_heading level0 col3\" >review_palate</th>        <th class=\"col_heading level0 col4\" >review_taste</th>    </tr></thead><tbody>\n",
              "                <tr>\n",
              "                        <th id=\"T_33dac5e8_3ac5_11ec_88e0_0242ac1c0002level0_row0\" class=\"row_heading level0 row0\" >review_overall</th>\n",
              "                        <td id=\"T_33dac5e8_3ac5_11ec_88e0_0242ac1c0002row0_col0\" class=\"data row0 col0\" >1.000000</td>\n",
              "                        <td id=\"T_33dac5e8_3ac5_11ec_88e0_0242ac1c0002row0_col1\" class=\"data row0 col1\" >0.760814</td>\n",
              "                        <td id=\"T_33dac5e8_3ac5_11ec_88e0_0242ac1c0002row0_col2\" class=\"data row0 col2\" >0.638924</td>\n",
              "                        <td id=\"T_33dac5e8_3ac5_11ec_88e0_0242ac1c0002row0_col3\" class=\"data row0 col3\" >0.818582</td>\n",
              "                        <td id=\"T_33dac5e8_3ac5_11ec_88e0_0242ac1c0002row0_col4\" class=\"data row0 col4\" >0.879117</td>\n",
              "            </tr>\n",
              "            <tr>\n",
              "                        <th id=\"T_33dac5e8_3ac5_11ec_88e0_0242ac1c0002level0_row1\" class=\"row_heading level0 row1\" >review_aroma</th>\n",
              "                        <td id=\"T_33dac5e8_3ac5_11ec_88e0_0242ac1c0002row1_col0\" class=\"data row1 col0\" >0.760814</td>\n",
              "                        <td id=\"T_33dac5e8_3ac5_11ec_88e0_0242ac1c0002row1_col1\" class=\"data row1 col1\" >1.000000</td>\n",
              "                        <td id=\"T_33dac5e8_3ac5_11ec_88e0_0242ac1c0002row1_col2\" class=\"data row1 col2\" >0.663368</td>\n",
              "                        <td id=\"T_33dac5e8_3ac5_11ec_88e0_0242ac1c0002row1_col3\" class=\"data row1 col3\" >0.743769</td>\n",
              "                        <td id=\"T_33dac5e8_3ac5_11ec_88e0_0242ac1c0002row1_col4\" class=\"data row1 col4\" >0.819921</td>\n",
              "            </tr>\n",
              "            <tr>\n",
              "                        <th id=\"T_33dac5e8_3ac5_11ec_88e0_0242ac1c0002level0_row2\" class=\"row_heading level0 row2\" >review_appearance</th>\n",
              "                        <td id=\"T_33dac5e8_3ac5_11ec_88e0_0242ac1c0002row2_col0\" class=\"data row2 col0\" >0.638924</td>\n",
              "                        <td id=\"T_33dac5e8_3ac5_11ec_88e0_0242ac1c0002row2_col1\" class=\"data row2 col1\" >0.663368</td>\n",
              "                        <td id=\"T_33dac5e8_3ac5_11ec_88e0_0242ac1c0002row2_col2\" class=\"data row2 col2\" >1.000000</td>\n",
              "                        <td id=\"T_33dac5e8_3ac5_11ec_88e0_0242ac1c0002row2_col3\" class=\"data row2 col3\" >0.681546</td>\n",
              "                        <td id=\"T_33dac5e8_3ac5_11ec_88e0_0242ac1c0002row2_col4\" class=\"data row2 col4\" >0.661613</td>\n",
              "            </tr>\n",
              "            <tr>\n",
              "                        <th id=\"T_33dac5e8_3ac5_11ec_88e0_0242ac1c0002level0_row3\" class=\"row_heading level0 row3\" >review_palate</th>\n",
              "                        <td id=\"T_33dac5e8_3ac5_11ec_88e0_0242ac1c0002row3_col0\" class=\"data row3 col0\" >0.818582</td>\n",
              "                        <td id=\"T_33dac5e8_3ac5_11ec_88e0_0242ac1c0002row3_col1\" class=\"data row3 col1\" >0.743769</td>\n",
              "                        <td id=\"T_33dac5e8_3ac5_11ec_88e0_0242ac1c0002row3_col2\" class=\"data row3 col2\" >0.681546</td>\n",
              "                        <td id=\"T_33dac5e8_3ac5_11ec_88e0_0242ac1c0002row3_col3\" class=\"data row3 col3\" >1.000000</td>\n",
              "                        <td id=\"T_33dac5e8_3ac5_11ec_88e0_0242ac1c0002row3_col4\" class=\"data row3 col4\" >0.830110</td>\n",
              "            </tr>\n",
              "            <tr>\n",
              "                        <th id=\"T_33dac5e8_3ac5_11ec_88e0_0242ac1c0002level0_row4\" class=\"row_heading level0 row4\" >review_taste</th>\n",
              "                        <td id=\"T_33dac5e8_3ac5_11ec_88e0_0242ac1c0002row4_col0\" class=\"data row4 col0\" >0.879117</td>\n",
              "                        <td id=\"T_33dac5e8_3ac5_11ec_88e0_0242ac1c0002row4_col1\" class=\"data row4 col1\" >0.819921</td>\n",
              "                        <td id=\"T_33dac5e8_3ac5_11ec_88e0_0242ac1c0002row4_col2\" class=\"data row4 col2\" >0.661613</td>\n",
              "                        <td id=\"T_33dac5e8_3ac5_11ec_88e0_0242ac1c0002row4_col3\" class=\"data row4 col3\" >0.830110</td>\n",
              "                        <td id=\"T_33dac5e8_3ac5_11ec_88e0_0242ac1c0002row4_col4\" class=\"data row4 col4\" >1.000000</td>\n",
              "            </tr>\n",
              "    </tbody></table>"
            ],
            "text/plain": [
              "<pandas.io.formats.style.Styler at 0x7f2122005310>"
            ]
          },
          "metadata": {},
          "execution_count": 38
        }
      ]
    },
    {
      "cell_type": "markdown",
      "metadata": {
        "id": "wjBLMqoWd38e"
      },
      "source": [
        "When using beer table (df table group by beer_id with all review is the average of that review), we can see more clearly the relationship between review_overall and 4 review left with descending order as: Taste (0.88) > Palate (0.82) > Aroma (0.76) > Appearance (0.64) (the same order as df table)"
      ]
    },
    {
      "cell_type": "markdown",
      "metadata": {
        "id": "6H0gXeJben3j"
      },
      "source": [
        "There's so understadable that appearance have lowest correlation, as people said: \"Don't judge the book by its cover\", especially for the product that you can taste."
      ]
    },
    {
      "cell_type": "markdown",
      "metadata": {
        "id": "5m6OnstnfAl8"
      },
      "source": [
        "### Question 4: Lastly, if I typically enjoy a beer due to its aroma and appearance, which beer style should I try?"
      ]
    },
    {
      "cell_type": "code",
      "metadata": {
        "id": "1i0AQuzXo8VO"
      },
      "source": [
        "aro_appear = pd.pivot_table(df[['beer_style','beer_name','review_aroma', 'review_appearance']],\n",
        "                            index=\"beer_style\",\n",
        "                            aggfunc= {'beer_name': 'count', 'review_aroma': 'mean', 'review_appearance': 'mean'}).reset_index()"
      ],
      "execution_count": null,
      "outputs": []
    },
    {
      "cell_type": "code",
      "metadata": {
        "id": "RlePpJKJuX7R"
      },
      "source": [
        "aro_appear.rename(columns = {'beer_name': 'number_of_review'}, inplace = True)"
      ],
      "execution_count": null,
      "outputs": []
    },
    {
      "cell_type": "code",
      "metadata": {
        "colab": {
          "base_uri": "https://localhost:8080/",
          "height": 422
        },
        "id": "copUukka5ZK5",
        "outputId": "2dc74462-ff91-448d-86f4-5a9c034ef584"
      },
      "source": [
        "aro_appear"
      ],
      "execution_count": null,
      "outputs": [
        {
          "output_type": "execute_result",
          "data": {
            "text/html": [
              "<div>\n",
              "<style scoped>\n",
              "    .dataframe tbody tr th:only-of-type {\n",
              "        vertical-align: middle;\n",
              "    }\n",
              "\n",
              "    .dataframe tbody tr th {\n",
              "        vertical-align: top;\n",
              "    }\n",
              "\n",
              "    .dataframe thead th {\n",
              "        text-align: right;\n",
              "    }\n",
              "</style>\n",
              "<table border=\"1\" class=\"dataframe\">\n",
              "  <thead>\n",
              "    <tr style=\"text-align: right;\">\n",
              "      <th></th>\n",
              "      <th>beer_style</th>\n",
              "      <th>number_of_review</th>\n",
              "      <th>review_appearance</th>\n",
              "      <th>review_aroma</th>\n",
              "    </tr>\n",
              "  </thead>\n",
              "  <tbody>\n",
              "    <tr>\n",
              "      <th>0</th>\n",
              "      <td>Altbier</td>\n",
              "      <td>7208</td>\n",
              "      <td>3.815552</td>\n",
              "      <td>3.634850</td>\n",
              "    </tr>\n",
              "    <tr>\n",
              "      <th>1</th>\n",
              "      <td>American Adjunct Lager</td>\n",
              "      <td>28847</td>\n",
              "      <td>2.786754</td>\n",
              "      <td>2.479599</td>\n",
              "    </tr>\n",
              "    <tr>\n",
              "      <th>2</th>\n",
              "      <td>American Amber / Red Ale</td>\n",
              "      <td>41662</td>\n",
              "      <td>3.829425</td>\n",
              "      <td>3.653353</td>\n",
              "    </tr>\n",
              "    <tr>\n",
              "      <th>3</th>\n",
              "      <td>American Amber / Red Lager</td>\n",
              "      <td>8586</td>\n",
              "      <td>3.534125</td>\n",
              "      <td>3.220533</td>\n",
              "    </tr>\n",
              "    <tr>\n",
              "      <th>4</th>\n",
              "      <td>American Barleywine</td>\n",
              "      <td>26254</td>\n",
              "      <td>4.040337</td>\n",
              "      <td>4.022187</td>\n",
              "    </tr>\n",
              "    <tr>\n",
              "      <th>...</th>\n",
              "      <td>...</td>\n",
              "      <td>...</td>\n",
              "      <td>...</td>\n",
              "      <td>...</td>\n",
              "    </tr>\n",
              "    <tr>\n",
              "      <th>99</th>\n",
              "      <td>Vienna Lager</td>\n",
              "      <td>8306</td>\n",
              "      <td>3.706417</td>\n",
              "      <td>3.440826</td>\n",
              "    </tr>\n",
              "    <tr>\n",
              "      <th>100</th>\n",
              "      <td>Weizenbock</td>\n",
              "      <td>9244</td>\n",
              "      <td>4.012927</td>\n",
              "      <td>4.049113</td>\n",
              "    </tr>\n",
              "    <tr>\n",
              "      <th>101</th>\n",
              "      <td>Wheatwine</td>\n",
              "      <td>3598</td>\n",
              "      <td>3.907865</td>\n",
              "      <td>3.976793</td>\n",
              "    </tr>\n",
              "    <tr>\n",
              "      <th>102</th>\n",
              "      <td>Winter Warmer</td>\n",
              "      <td>19932</td>\n",
              "      <td>3.844195</td>\n",
              "      <td>3.705373</td>\n",
              "    </tr>\n",
              "    <tr>\n",
              "      <th>103</th>\n",
              "      <td>Witbier</td>\n",
              "      <td>28627</td>\n",
              "      <td>3.694292</td>\n",
              "      <td>3.646680</td>\n",
              "    </tr>\n",
              "  </tbody>\n",
              "</table>\n",
              "<p>104 rows × 4 columns</p>\n",
              "</div>"
            ],
            "text/plain": [
              "                     beer_style  ...  review_aroma\n",
              "0                       Altbier  ...      3.634850\n",
              "1        American Adjunct Lager  ...      2.479599\n",
              "2      American Amber / Red Ale  ...      3.653353\n",
              "3    American Amber / Red Lager  ...      3.220533\n",
              "4           American Barleywine  ...      4.022187\n",
              "..                          ...  ...           ...\n",
              "99                 Vienna Lager  ...      3.440826\n",
              "100                  Weizenbock  ...      4.049113\n",
              "101                   Wheatwine  ...      3.976793\n",
              "102               Winter Warmer  ...      3.705373\n",
              "103                     Witbier  ...      3.646680\n",
              "\n",
              "[104 rows x 4 columns]"
            ]
          },
          "metadata": {},
          "execution_count": 107
        }
      ]
    },
    {
      "cell_type": "code",
      "metadata": {
        "id": "4DupXl6G62wq"
      },
      "source": [
        "aro_appear['aroma_appear_mean'] = (aro_appear['review_appearance'] + aro_appear['review_aroma']) / 2"
      ],
      "execution_count": null,
      "outputs": []
    },
    {
      "cell_type": "code",
      "metadata": {
        "id": "8iSXaSC47B2J"
      },
      "source": [
        "aro_appear['diff_from_mean'] = abs(aro_appear['review_appearance'] - aro_appear['review_aroma'])"
      ],
      "execution_count": null,
      "outputs": []
    },
    {
      "cell_type": "code",
      "metadata": {
        "id": "Y1TuV8Wn7Ijp"
      },
      "source": [
        "sort_aro_appear = aro_appear.sort_values('aroma_appear_mean', ascending=False).head(5)"
      ],
      "execution_count": null,
      "outputs": []
    },
    {
      "cell_type": "code",
      "metadata": {
        "colab": {
          "base_uri": "https://localhost:8080/",
          "height": 205
        },
        "id": "l06bMWdG7NSJ",
        "outputId": "fdcd7ee8-57b1-4dee-8902-0e67ad0794d5"
      },
      "source": [
        "sort_aro_appear"
      ],
      "execution_count": null,
      "outputs": [
        {
          "output_type": "execute_result",
          "data": {
            "text/html": [
              "<div>\n",
              "<style scoped>\n",
              "    .dataframe tbody tr th:only-of-type {\n",
              "        vertical-align: middle;\n",
              "    }\n",
              "\n",
              "    .dataframe tbody tr th {\n",
              "        vertical-align: top;\n",
              "    }\n",
              "\n",
              "    .dataframe thead th {\n",
              "        text-align: right;\n",
              "    }\n",
              "</style>\n",
              "<table border=\"1\" class=\"dataframe\">\n",
              "  <thead>\n",
              "    <tr style=\"text-align: right;\">\n",
              "      <th></th>\n",
              "      <th>beer_style</th>\n",
              "      <th>number_of_review</th>\n",
              "      <th>review_appearance</th>\n",
              "      <th>review_aroma</th>\n",
              "      <th>aroma_appear_mean</th>\n",
              "      <th>diff_from_mean</th>\n",
              "    </tr>\n",
              "  </thead>\n",
              "  <tbody>\n",
              "    <tr>\n",
              "      <th>11</th>\n",
              "      <td>American Double / Imperial Stout</td>\n",
              "      <td>50128</td>\n",
              "      <td>4.164220</td>\n",
              "      <td>4.161467</td>\n",
              "      <td>4.162843</td>\n",
              "      <td>0.002753</td>\n",
              "    </tr>\n",
              "    <tr>\n",
              "      <th>89</th>\n",
              "      <td>Russian Imperial Stout</td>\n",
              "      <td>53377</td>\n",
              "      <td>4.212648</td>\n",
              "      <td>4.077618</td>\n",
              "      <td>4.145133</td>\n",
              "      <td>0.135030</td>\n",
              "    </tr>\n",
              "    <tr>\n",
              "      <th>86</th>\n",
              "      <td>Quadrupel (Quad)</td>\n",
              "      <td>17930</td>\n",
              "      <td>4.119604</td>\n",
              "      <td>4.133352</td>\n",
              "      <td>4.126478</td>\n",
              "      <td>0.013748</td>\n",
              "    </tr>\n",
              "    <tr>\n",
              "      <th>9</th>\n",
              "      <td>American Double / Imperial IPA</td>\n",
              "      <td>85097</td>\n",
              "      <td>4.080555</td>\n",
              "      <td>4.099974</td>\n",
              "      <td>4.090265</td>\n",
              "      <td>0.019419</td>\n",
              "    </tr>\n",
              "    <tr>\n",
              "      <th>63</th>\n",
              "      <td>Gueuze</td>\n",
              "      <td>5919</td>\n",
              "      <td>4.037844</td>\n",
              "      <td>4.116320</td>\n",
              "      <td>4.077082</td>\n",
              "      <td>0.078476</td>\n",
              "    </tr>\n",
              "  </tbody>\n",
              "</table>\n",
              "</div>"
            ],
            "text/plain": [
              "                          beer_style  ...  diff_from_mean\n",
              "11  American Double / Imperial Stout  ...        0.002753\n",
              "89            Russian Imperial Stout  ...        0.135030\n",
              "86                  Quadrupel (Quad)  ...        0.013748\n",
              "9     American Double / Imperial IPA  ...        0.019419\n",
              "63                            Gueuze  ...        0.078476\n",
              "\n",
              "[5 rows x 6 columns]"
            ]
          },
          "metadata": {},
          "execution_count": 113
        }
      ]
    },
    {
      "cell_type": "code",
      "metadata": {
        "colab": {
          "base_uri": "https://localhost:8080/",
          "height": 542
        },
        "id": "yb-DCpMk_ENy",
        "outputId": "81a87ee2-edbc-4f77-bea7-3f95a1bd0b83"
      },
      "source": [
        "p1 = go.Scatter(\n",
        "    x = sort_aro_appear['aroma_appear_mean'],\n",
        "    y = sort_aro_appear['beer_style'],\n",
        "    error_x = dict(\n",
        "        type='data',\n",
        "        array=sort_aro_appear['diff_from_mean']/2,\n",
        "        thickness=1.5),\n",
        "    mode = 'markers',\n",
        "    name = 'Combined Average',\n",
        "    marker=dict(\n",
        "        color='rgba(84, 110, 122, 0.95)',\n",
        "        line=dict(\n",
        "            color='rgba(84, 110, 122, 1.0)',\n",
        "            width=1,\n",
        "        ),\n",
        "        symbol='circle',\n",
        "        size=8\n",
        "    )\n",
        ")\n",
        "\n",
        "# Aroma Rating Dot Plot \n",
        "p2 = go.Scatter(\n",
        "    x = sort_aro_appear['review_aroma'],\n",
        "    y = sort_aro_appear['beer_style'],\n",
        "    mode = 'markers',\n",
        "    name = 'Aroma Average',\n",
        "    marker=dict(\n",
        "        color='rgba(229, 57, 53, 0.95)',\n",
        "        line=dict(\n",
        "            color='rgba(229, 57, 53, 1.0)',\n",
        "            width=1,\n",
        "        ),\n",
        "        symbol='circle',\n",
        "        size=8\n",
        "    )\n",
        ")\n",
        "\n",
        "# Appearance Rating Dot Plot\n",
        "p3 = go.Scatter(\n",
        "    x = sort_aro_appear['review_appearance'],\n",
        "    y = sort_aro_appear['beer_style'],\n",
        "    mode = 'markers',\n",
        "    name = 'Appearance Average',\n",
        "    marker=dict(\n",
        "        color='rgb(1, 87, 155, 0.95)',\n",
        "        line=dict(\n",
        "            color='rgba(1, 87, 155, 1.0)',\n",
        "            width=1,\n",
        "        ),\n",
        "        symbol='circle',\n",
        "        size=8\n",
        "    )\n",
        ")\n",
        "\n",
        "\n",
        "# Set layout\n",
        "layout= dict(\n",
        "    title='Top 5 Beer Styles by Combined Appearance/Aroma Average',\n",
        "    xaxis=dict(\n",
        "        showline=True,\n",
        "        showticklabels=True,\n",
        "        ticks='outside',\n",
        "        title='Rating',\n",
        "        hoverformat = '.2f',\n",
        "        autorange=True,\n",
        "        showgrid=False,),\n",
        "    margin = dict(l = 250),\n",
        "    font=dict(family='Courier New, monospace', color='dark gray'),\n",
        "    legend=dict(\n",
        "        font=dict(\n",
        "            size=10,\n",
        "        ),\n",
        "        yanchor='bottom',\n",
        "        xanchor='right',\n",
        "    ),\n",
        "    hovermode='closest'\n",
        ")\n",
        "\n",
        "\n",
        "# Plot it\n",
        "fig = go.Figure(data=[p1,p2,p3], layout=layout)\n",
        "py.offline.iplot(fig)"
      ],
      "execution_count": null,
      "outputs": [
        {
          "output_type": "display_data",
          "data": {
            "text/html": [
              "<html>\n",
              "<head><meta charset=\"utf-8\" /></head>\n",
              "<body>\n",
              "    <div>\n",
              "            <script src=\"https://cdnjs.cloudflare.com/ajax/libs/mathjax/2.7.5/MathJax.js?config=TeX-AMS-MML_SVG\"></script><script type=\"text/javascript\">if (window.MathJax) {MathJax.Hub.Config({SVG: {font: \"STIX-Web\"}});}</script>\n",
              "                <script type=\"text/javascript\">window.PlotlyConfig = {MathJaxConfig: 'local'};</script>\n",
              "        <script src=\"https://cdn.plot.ly/plotly-latest.min.js\"></script>    \n",
              "            <div id=\"5e189ea6-b739-4972-a71f-38f109599659\" class=\"plotly-graph-div\" style=\"height:525px; width:100%;\"></div>\n",
              "            <script type=\"text/javascript\">\n",
              "                \n",
              "                    window.PLOTLYENV=window.PLOTLYENV || {};\n",
              "                    \n",
              "                if (document.getElementById(\"5e189ea6-b739-4972-a71f-38f109599659\")) {\n",
              "                    Plotly.newPlot(\n",
              "                        '5e189ea6-b739-4972-a71f-38f109599659',\n",
              "                        [{\"error_x\": {\"array\": [0.0013764762208747783, 0.06751503456544938, 0.006873954266592097, 0.009709507973254095, 0.03923804696739319], \"thickness\": 1.5, \"type\": \"data\"}, \"marker\": {\"color\": \"rgba(84, 110, 122, 0.95)\", \"line\": {\"color\": \"rgba(84, 110, 122, 1.0)\", \"width\": 1}, \"size\": 8, \"symbol\": \"circle\"}, \"mode\": \"markers\", \"name\": \"Combined Average\", \"type\": \"scatter\", \"x\": [4.162843121608682, 4.145132735073159, 4.1264779698828775, 4.090264639176469, 4.077082277411725], \"y\": [\"American Double / Imperial Stout\", \"Russian Imperial Stout\", \"Quadrupel (Quad)\", \"American Double / Imperial IPA\", \"Gueuze\"]}, {\"marker\": {\"color\": \"rgba(229, 57, 53, 0.95)\", \"line\": {\"color\": \"rgba(229, 57, 53, 1.0)\", \"width\": 1}, \"size\": 8, \"symbol\": \"circle\"}, \"mode\": \"markers\", \"name\": \"Aroma Average\", \"type\": \"scatter\", \"x\": [4.161466645387807, 4.07761770050771, 4.13335192414947, 4.099974147149723, 4.116320324379118], \"y\": [\"American Double / Imperial Stout\", \"Russian Imperial Stout\", \"Quadrupel (Quad)\", \"American Double / Imperial IPA\", \"Gueuze\"]}, {\"marker\": {\"color\": \"rgb(1, 87, 155, 0.95)\", \"line\": {\"color\": \"rgba(1, 87, 155, 1.0)\", \"width\": 1}, \"size\": 8, \"symbol\": \"circle\"}, \"mode\": \"markers\", \"name\": \"Appearance Average\", \"type\": \"scatter\", \"x\": [4.164219597829557, 4.212647769638608, 4.119604015616286, 4.080555131203215, 4.037844230444332], \"y\": [\"American Double / Imperial Stout\", \"Russian Imperial Stout\", \"Quadrupel (Quad)\", \"American Double / Imperial IPA\", \"Gueuze\"]}],\n",
              "                        {\"font\": {\"color\": \"dark gray\", \"family\": \"Courier New, monospace\"}, \"hovermode\": \"closest\", \"legend\": {\"font\": {\"size\": 10}, \"xanchor\": \"right\", \"yanchor\": \"bottom\"}, \"margin\": {\"l\": 250}, \"template\": {\"data\": {\"bar\": [{\"error_x\": {\"color\": \"#2a3f5f\"}, \"error_y\": {\"color\": \"#2a3f5f\"}, \"marker\": {\"line\": {\"color\": \"#E5ECF6\", \"width\": 0.5}}, \"type\": \"bar\"}], \"barpolar\": [{\"marker\": {\"line\": {\"color\": \"#E5ECF6\", \"width\": 0.5}}, \"type\": \"barpolar\"}], \"carpet\": [{\"aaxis\": {\"endlinecolor\": \"#2a3f5f\", \"gridcolor\": \"white\", \"linecolor\": \"white\", \"minorgridcolor\": \"white\", \"startlinecolor\": \"#2a3f5f\"}, \"baxis\": {\"endlinecolor\": \"#2a3f5f\", \"gridcolor\": \"white\", \"linecolor\": \"white\", \"minorgridcolor\": \"white\", \"startlinecolor\": \"#2a3f5f\"}, \"type\": \"carpet\"}], \"choropleth\": [{\"colorbar\": {\"outlinewidth\": 0, \"ticks\": \"\"}, \"type\": \"choropleth\"}], \"contour\": [{\"colorbar\": {\"outlinewidth\": 0, \"ticks\": \"\"}, \"colorscale\": [[0.0, \"#0d0887\"], [0.1111111111111111, \"#46039f\"], [0.2222222222222222, \"#7201a8\"], [0.3333333333333333, \"#9c179e\"], [0.4444444444444444, \"#bd3786\"], [0.5555555555555556, \"#d8576b\"], [0.6666666666666666, \"#ed7953\"], [0.7777777777777778, \"#fb9f3a\"], [0.8888888888888888, \"#fdca26\"], [1.0, \"#f0f921\"]], \"type\": \"contour\"}], \"contourcarpet\": [{\"colorbar\": {\"outlinewidth\": 0, \"ticks\": \"\"}, \"type\": \"contourcarpet\"}], \"heatmap\": [{\"colorbar\": {\"outlinewidth\": 0, \"ticks\": \"\"}, \"colorscale\": [[0.0, \"#0d0887\"], [0.1111111111111111, \"#46039f\"], [0.2222222222222222, \"#7201a8\"], [0.3333333333333333, \"#9c179e\"], [0.4444444444444444, \"#bd3786\"], [0.5555555555555556, \"#d8576b\"], [0.6666666666666666, \"#ed7953\"], [0.7777777777777778, \"#fb9f3a\"], [0.8888888888888888, \"#fdca26\"], [1.0, \"#f0f921\"]], \"type\": \"heatmap\"}], \"heatmapgl\": [{\"colorbar\": {\"outlinewidth\": 0, \"ticks\": \"\"}, \"colorscale\": [[0.0, \"#0d0887\"], [0.1111111111111111, \"#46039f\"], [0.2222222222222222, \"#7201a8\"], [0.3333333333333333, \"#9c179e\"], [0.4444444444444444, \"#bd3786\"], [0.5555555555555556, \"#d8576b\"], [0.6666666666666666, \"#ed7953\"], [0.7777777777777778, \"#fb9f3a\"], [0.8888888888888888, \"#fdca26\"], [1.0, \"#f0f921\"]], \"type\": \"heatmapgl\"}], \"histogram\": [{\"marker\": {\"colorbar\": {\"outlinewidth\": 0, \"ticks\": \"\"}}, \"type\": \"histogram\"}], \"histogram2d\": [{\"colorbar\": {\"outlinewidth\": 0, \"ticks\": \"\"}, \"colorscale\": [[0.0, \"#0d0887\"], [0.1111111111111111, \"#46039f\"], [0.2222222222222222, \"#7201a8\"], [0.3333333333333333, \"#9c179e\"], [0.4444444444444444, \"#bd3786\"], [0.5555555555555556, \"#d8576b\"], [0.6666666666666666, \"#ed7953\"], [0.7777777777777778, \"#fb9f3a\"], [0.8888888888888888, \"#fdca26\"], [1.0, \"#f0f921\"]], \"type\": \"histogram2d\"}], \"histogram2dcontour\": [{\"colorbar\": {\"outlinewidth\": 0, \"ticks\": \"\"}, \"colorscale\": [[0.0, \"#0d0887\"], [0.1111111111111111, \"#46039f\"], [0.2222222222222222, \"#7201a8\"], [0.3333333333333333, \"#9c179e\"], [0.4444444444444444, \"#bd3786\"], [0.5555555555555556, \"#d8576b\"], [0.6666666666666666, \"#ed7953\"], [0.7777777777777778, \"#fb9f3a\"], [0.8888888888888888, \"#fdca26\"], [1.0, \"#f0f921\"]], \"type\": \"histogram2dcontour\"}], \"mesh3d\": [{\"colorbar\": {\"outlinewidth\": 0, \"ticks\": \"\"}, \"type\": \"mesh3d\"}], \"parcoords\": [{\"line\": {\"colorbar\": {\"outlinewidth\": 0, \"ticks\": \"\"}}, \"type\": \"parcoords\"}], \"pie\": [{\"automargin\": true, \"type\": \"pie\"}], \"scatter\": [{\"marker\": {\"colorbar\": {\"outlinewidth\": 0, \"ticks\": \"\"}}, \"type\": \"scatter\"}], \"scatter3d\": [{\"line\": {\"colorbar\": {\"outlinewidth\": 0, \"ticks\": \"\"}}, \"marker\": {\"colorbar\": {\"outlinewidth\": 0, \"ticks\": \"\"}}, \"type\": \"scatter3d\"}], \"scattercarpet\": [{\"marker\": {\"colorbar\": {\"outlinewidth\": 0, \"ticks\": \"\"}}, \"type\": \"scattercarpet\"}], \"scattergeo\": [{\"marker\": {\"colorbar\": {\"outlinewidth\": 0, \"ticks\": \"\"}}, \"type\": \"scattergeo\"}], \"scattergl\": [{\"marker\": {\"colorbar\": {\"outlinewidth\": 0, \"ticks\": \"\"}}, \"type\": \"scattergl\"}], \"scattermapbox\": [{\"marker\": {\"colorbar\": {\"outlinewidth\": 0, \"ticks\": \"\"}}, \"type\": \"scattermapbox\"}], \"scatterpolar\": [{\"marker\": {\"colorbar\": {\"outlinewidth\": 0, \"ticks\": \"\"}}, \"type\": \"scatterpolar\"}], \"scatterpolargl\": [{\"marker\": {\"colorbar\": {\"outlinewidth\": 0, \"ticks\": \"\"}}, \"type\": \"scatterpolargl\"}], \"scatterternary\": [{\"marker\": {\"colorbar\": {\"outlinewidth\": 0, \"ticks\": \"\"}}, \"type\": \"scatterternary\"}], \"surface\": [{\"colorbar\": {\"outlinewidth\": 0, \"ticks\": \"\"}, \"colorscale\": [[0.0, \"#0d0887\"], [0.1111111111111111, \"#46039f\"], [0.2222222222222222, \"#7201a8\"], [0.3333333333333333, \"#9c179e\"], [0.4444444444444444, \"#bd3786\"], [0.5555555555555556, \"#d8576b\"], [0.6666666666666666, \"#ed7953\"], [0.7777777777777778, \"#fb9f3a\"], [0.8888888888888888, \"#fdca26\"], [1.0, \"#f0f921\"]], \"type\": \"surface\"}], \"table\": [{\"cells\": {\"fill\": {\"color\": \"#EBF0F8\"}, \"line\": {\"color\": \"white\"}}, \"header\": {\"fill\": {\"color\": \"#C8D4E3\"}, \"line\": {\"color\": \"white\"}}, \"type\": \"table\"}]}, \"layout\": {\"annotationdefaults\": {\"arrowcolor\": \"#2a3f5f\", \"arrowhead\": 0, \"arrowwidth\": 1}, \"coloraxis\": {\"colorbar\": {\"outlinewidth\": 0, \"ticks\": \"\"}}, \"colorscale\": {\"diverging\": [[0, \"#8e0152\"], [0.1, \"#c51b7d\"], [0.2, \"#de77ae\"], [0.3, \"#f1b6da\"], [0.4, \"#fde0ef\"], [0.5, \"#f7f7f7\"], [0.6, \"#e6f5d0\"], [0.7, \"#b8e186\"], [0.8, \"#7fbc41\"], [0.9, \"#4d9221\"], [1, \"#276419\"]], \"sequential\": [[0.0, \"#0d0887\"], [0.1111111111111111, \"#46039f\"], [0.2222222222222222, \"#7201a8\"], [0.3333333333333333, \"#9c179e\"], [0.4444444444444444, \"#bd3786\"], [0.5555555555555556, \"#d8576b\"], [0.6666666666666666, \"#ed7953\"], [0.7777777777777778, \"#fb9f3a\"], [0.8888888888888888, \"#fdca26\"], [1.0, \"#f0f921\"]], \"sequentialminus\": [[0.0, \"#0d0887\"], [0.1111111111111111, \"#46039f\"], [0.2222222222222222, \"#7201a8\"], [0.3333333333333333, \"#9c179e\"], [0.4444444444444444, \"#bd3786\"], [0.5555555555555556, \"#d8576b\"], [0.6666666666666666, \"#ed7953\"], [0.7777777777777778, \"#fb9f3a\"], [0.8888888888888888, \"#fdca26\"], [1.0, \"#f0f921\"]]}, \"colorway\": [\"#636efa\", \"#EF553B\", \"#00cc96\", \"#ab63fa\", \"#FFA15A\", \"#19d3f3\", \"#FF6692\", \"#B6E880\", \"#FF97FF\", \"#FECB52\"], \"font\": {\"color\": \"#2a3f5f\"}, \"geo\": {\"bgcolor\": \"white\", \"lakecolor\": \"white\", \"landcolor\": \"#E5ECF6\", \"showlakes\": true, \"showland\": true, \"subunitcolor\": \"white\"}, \"hoverlabel\": {\"align\": \"left\"}, \"hovermode\": \"closest\", \"mapbox\": {\"style\": \"light\"}, \"paper_bgcolor\": \"white\", \"plot_bgcolor\": \"#E5ECF6\", \"polar\": {\"angularaxis\": {\"gridcolor\": \"white\", \"linecolor\": \"white\", \"ticks\": \"\"}, \"bgcolor\": \"#E5ECF6\", \"radialaxis\": {\"gridcolor\": \"white\", \"linecolor\": \"white\", \"ticks\": \"\"}}, \"scene\": {\"xaxis\": {\"backgroundcolor\": \"#E5ECF6\", \"gridcolor\": \"white\", \"gridwidth\": 2, \"linecolor\": \"white\", \"showbackground\": true, \"ticks\": \"\", \"zerolinecolor\": \"white\"}, \"yaxis\": {\"backgroundcolor\": \"#E5ECF6\", \"gridcolor\": \"white\", \"gridwidth\": 2, \"linecolor\": \"white\", \"showbackground\": true, \"ticks\": \"\", \"zerolinecolor\": \"white\"}, \"zaxis\": {\"backgroundcolor\": \"#E5ECF6\", \"gridcolor\": \"white\", \"gridwidth\": 2, \"linecolor\": \"white\", \"showbackground\": true, \"ticks\": \"\", \"zerolinecolor\": \"white\"}}, \"shapedefaults\": {\"line\": {\"color\": \"#2a3f5f\"}}, \"ternary\": {\"aaxis\": {\"gridcolor\": \"white\", \"linecolor\": \"white\", \"ticks\": \"\"}, \"baxis\": {\"gridcolor\": \"white\", \"linecolor\": \"white\", \"ticks\": \"\"}, \"bgcolor\": \"#E5ECF6\", \"caxis\": {\"gridcolor\": \"white\", \"linecolor\": \"white\", \"ticks\": \"\"}}, \"title\": {\"x\": 0.05}, \"xaxis\": {\"automargin\": true, \"gridcolor\": \"white\", \"linecolor\": \"white\", \"ticks\": \"\", \"title\": {\"standoff\": 15}, \"zerolinecolor\": \"white\", \"zerolinewidth\": 2}, \"yaxis\": {\"automargin\": true, \"gridcolor\": \"white\", \"linecolor\": \"white\", \"ticks\": \"\", \"title\": {\"standoff\": 15}, \"zerolinecolor\": \"white\", \"zerolinewidth\": 2}}}, \"title\": {\"text\": \"Top 5 Beer Styles by Combined Appearance/Aroma Average\"}, \"xaxis\": {\"autorange\": true, \"hoverformat\": \".2f\", \"showgrid\": false, \"showline\": true, \"showticklabels\": true, \"ticks\": \"outside\", \"title\": {\"text\": \"Rating\"}}},\n",
              "                        {\"responsive\": true}\n",
              "                    ).then(function(){\n",
              "                            \n",
              "var gd = document.getElementById('5e189ea6-b739-4972-a71f-38f109599659');\n",
              "var x = new MutationObserver(function (mutations, observer) {{\n",
              "        var display = window.getComputedStyle(gd).display;\n",
              "        if (!display || display === 'none') {{\n",
              "            console.log([gd, 'removed!']);\n",
              "            Plotly.purge(gd);\n",
              "            observer.disconnect();\n",
              "        }}\n",
              "}});\n",
              "\n",
              "// Listen for the removal of the full notebook cells\n",
              "var notebookContainer = gd.closest('#notebook-container');\n",
              "if (notebookContainer) {{\n",
              "    x.observe(notebookContainer, {childList: true});\n",
              "}}\n",
              "\n",
              "// Listen for the clearing of the current output cell\n",
              "var outputEl = gd.closest('.output');\n",
              "if (outputEl) {{\n",
              "    x.observe(outputEl, {childList: true});\n",
              "}}\n",
              "\n",
              "                        })\n",
              "                };\n",
              "                \n",
              "            </script>\n",
              "        </div>\n",
              "</body>\n",
              "</html>"
            ]
          },
          "metadata": {}
        }
      ]
    }
  ]
}